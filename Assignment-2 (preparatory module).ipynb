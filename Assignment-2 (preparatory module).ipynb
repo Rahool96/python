{
 "cells": [
  {
   "cell_type": "markdown",
   "id": "f7f94a8a",
   "metadata": {},
   "source": [
    "# Write A program to accept Four digit number from user and count zero , odd and even digits from the entered number"
   ]
  },
  {
   "cell_type": "code",
   "execution_count": 15,
   "id": "1f876293",
   "metadata": {},
   "outputs": [
    {
     "name": "stdout",
     "output_type": "stream",
     "text": [
      "Enter the numbers123456\n",
      "invalid input\n"
     ]
    }
   ],
   "source": [
    "count_of_zero=0\n",
    "count_of_odd=0\n",
    "count_of_even=0\n",
    "n =str(input(\"Enter the numbers\"))\n",
    "if len(n)==4:\n",
    "    for i in str(n):\n",
    "        i=int(i)\n",
    "        if(i==0):\n",
    "            count_of_zero+=1\n",
    "        elif(i%2==0):\n",
    "            count_of_even+=1\n",
    "        elif(i%2 !=0):\n",
    "            count_of_odd+= 1\n",
    "    print(\"number of zeors in entered number\",count_of_zero)\n",
    "    print(\"number of odd number in entered number\",count_of_even)\n",
    "    print(\"number of even numbers in entered number\",count_of_odd)            \n",
    "else:\n",
    "    print(\"invalid input\")\n",
    "        \n",
    "\n"
   ]
  },
  {
   "cell_type": "markdown",
   "id": "5075c103",
   "metadata": {},
   "source": [
    "# Write a Python program to find those numbers which are divisible by 7 and multiple of 5, between 1500 and 2700"
   ]
  },
  {
   "cell_type": "code",
   "execution_count": 1,
   "id": "1cc47fbf",
   "metadata": {},
   "outputs": [
    {
     "name": "stdout",
     "output_type": "stream",
     "text": [
      "Enter the no=2300\n",
      "False\n"
     ]
    }
   ],
   "source": [
    "a=int(input(\"Enter the no=\"))\n",
    "if a in range(1499,2701):\n",
    "    if(a%7==0 and a%5==0):\n",
    "        print(\" true\")\n",
    "    else:\n",
    "        print(\"False\")\n"
   ]
  },
  {
   "cell_type": "markdown",
   "id": "12588239",
   "metadata": {},
   "source": [
    "# Write a Python program to convert temperatures to and from celsius, fahrenheit. Go to the editor \n",
    "[ Formula : c/5 = f-32/9 [ where c = temperature in celsius and f = temperature in fahrenheit ] Expected Output : 60°C is 140 in Fahrenheit 45°F is 7 in Celsius"
   ]
  },
  {
   "cell_type": "code",
   "execution_count": 21,
   "id": "a195c1dd",
   "metadata": {},
   "outputs": [
    {
     "name": "stdout",
     "output_type": "stream",
     "text": [
      " Enter temperature in Centigrade: 60\n",
      " Temperature in Fahrenheit is:  140.0\n",
      " Enter temperature in fahrenheit: 45\n",
      " Temperature in centigrade is:  7.222222222222222\n"
     ]
    }
   ],
   "source": [
    "c = float(input(\" Enter temperature in Centigrade: \"))\n",
    "f = (9*c/5)+32\n",
    "print(\" Temperature in Fahrenheit is: \", f)\n",
    "f = float(input(\" Enter temperature in fahrenheit: \"))\n",
    "c= 5*((f-32)/9)\n",
    "print(\" Temperature in centigrade is: \", c)\n"
   ]
  },
  {
   "cell_type": "markdown",
   "id": "98700182",
   "metadata": {},
   "source": [
    "# Write a Python program that accepts a word from the user and reverse it."
   ]
  },
  {
   "cell_type": "code",
   "execution_count": 3,
   "id": "0e4103f2",
   "metadata": {},
   "outputs": [
    {
     "name": "stdout",
     "output_type": "stream",
     "text": [
      "Entrerahul dubal\n",
      "labud luhar\n"
     ]
    }
   ],
   "source": [
    "s1=str(input(\"Entre word\"))\n",
    "a=s1[::-1]\n",
    "print(a)"
   ]
  },
  {
   "cell_type": "markdown",
   "id": "d89f9955",
   "metadata": {},
   "source": [
    "# Write a Python program to get the Fibonacci series between 0 to 50. Go to the editor\n",
    "Note : The Fibonacci Sequence is the series of numbers : 0, 1, 1, 2, 3, 5, 8, 13, 21, .... Every next number is found by adding up the two numbers before it. Expected Output : 1 1 2 3 5 8 13 21 34"
   ]
  },
  {
   "cell_type": "code",
   "execution_count": 1,
   "id": "8c1d6649",
   "metadata": {},
   "outputs": [
    {
     "name": "stdout",
     "output_type": "stream",
     "text": [
      "enter the number= 10\n",
      "0 1 1 2 3 5 8 "
     ]
    }
   ],
   "source": [
    "n=int(input(\"enter the number= \"))\n",
    "num1,num2= 0,1\n",
    "while(num1<n):\n",
    "    print(num1,end=\" \")\n",
    "    num=num1+num2\n",
    "    num1=num2\n",
    "    num2=num"
   ]
  },
  {
   "cell_type": "markdown",
   "id": "cb26b5fb",
   "metadata": {},
   "source": [
    "# Write a Python program to check whether an alphabet is a vowel or consonant."
   ]
  },
  {
   "cell_type": "code",
   "execution_count": 53,
   "id": "f8aa8c73",
   "metadata": {},
   "outputs": [
    {
     "name": "stdout",
     "output_type": "stream",
     "text": [
      "enter the Alpha bate= A\n",
      "It is Vowel\n"
     ]
    }
   ],
   "source": [
    "a=(input(\"enter the Alpha bate= \"))\n",
    "list=['a','e','i','o','A','E','I','O','U']\n",
    "if a in list :\n",
    "    print(\"It is Vowel\")\n",
    "else:\n",
    "    print(\"It is Constant\")"
   ]
  },
  {
   "cell_type": "markdown",
   "id": "0518cd50",
   "metadata": {},
   "source": [
    "# Write a Python program to sum of two given integers. However, if the sum is between 15 to 20 it will return"
   ]
  },
  {
   "cell_type": "code",
   "execution_count": 4,
   "id": "3bd53f84",
   "metadata": {},
   "outputs": [
    {
     "name": "stdout",
     "output_type": "stream",
     "text": [
      "Enter value10\n",
      "Enter value10\n",
      "20\n"
     ]
    }
   ],
   "source": [
    "a=int(input(\"Enter value\"))\n",
    "b=int(input(\"Enter value\"))\n",
    "sum= a+b\n",
    "if sum in range(14,21):\n",
    "    print(sum)\n",
    "else:\n",
    "    print(\"invalid input\")"
   ]
  },
  {
   "cell_type": "markdown",
   "id": "9c6422c0",
   "metadata": {},
   "source": [
    "# Write a program to accept ‘n’ numbers from user , store these numbers into an array. \n",
    " Find out maximum and minimum number from an Array"
   ]
  },
  {
   "cell_type": "code",
   "execution_count": 4,
   "id": "c1cc22bd",
   "metadata": {},
   "outputs": [
    {
     "name": "stdout",
     "output_type": "stream",
     "text": [
      "enter the size of array6\n",
      "Enter the list elements :\n",
      "6\n",
      "5\n",
      "4\n",
      "3\n",
      "1\n",
      "2\n",
      "maximum number=  6\n",
      "minimum number=  1\n"
     ]
    }
   ],
   "source": [
    "lst= []\n",
    "num=int(input(\"enter the size of array\"))\n",
    "print (\"Enter the list elements :\")\n",
    "for n in range(num):\n",
    "    numbers=int(input())\n",
    "    lst.append(numbers)\n",
    "print(\"maximum number= \",max (lst))  \n",
    "print(\"minimum number= \",min (lst))  "
   ]
  },
  {
   "cell_type": "markdown",
   "id": "26ab6e54",
   "metadata": {},
   "source": [
    "### Write a menu driven program that shows the working of a library. \n",
    "The menu option should be \n",
    "--ADD BOOK INFORMATION\n",
    "--DISPLAY BOOK INFORMATION \n",
    "--LIST ALL BOOKS OF GIVEN AUTHOR \n",
    "--LIST THE COUNT OF BOOKS IN THE LIBRARY \n",
    "--EXIT"
   ]
  },
  {
   "cell_type": "code",
   "execution_count": null,
   "id": "25ba4c44",
   "metadata": {},
   "outputs": [],
   "source": []
  },
  {
   "cell_type": "markdown",
   "id": "7a99214d",
   "metadata": {},
   "source": [
    "# Write a program to accept ‘n’ numbers from user , store these numbers into an array and sort the numbers of an array using function"
   ]
  },
  {
   "cell_type": "code",
   "execution_count": 22,
   "id": "f3fd401a",
   "metadata": {},
   "outputs": [
    {
     "name": "stdout",
     "output_type": "stream",
     "text": [
      "enter the number of elements =4\n",
      "5\n",
      "8\n",
      "3\n",
      "7\n"
     ]
    },
    {
     "data": {
      "text/plain": [
       "[3, 5, 7, 8]"
      ]
     },
     "execution_count": 22,
     "metadata": {},
     "output_type": "execute_result"
    }
   ],
   "source": [
    "lst1=[]\n",
    "num=int (input(\"enter the number of elements =\"))\n",
    "for n in range(num):\n",
    "    numbers= int(input())\n",
    "    lst1.append(numbers)\n",
    "lst1.sort()\n",
    "lst1\n"
   ]
  },
  {
   "cell_type": "markdown",
   "id": "a2b8f91c",
   "metadata": {},
   "source": [
    "# Write a program to accept customer details \n",
    "## such as : Account_no, Name, Balance in Acount, Assume Maximum 20 Customer In the bank. Write a function to print the account no and name of each customer with balance below rs 100"
   ]
  },
  {
   "cell_type": "code",
   "execution_count": null,
   "id": "fcb94263",
   "metadata": {},
   "outputs": [],
   "source": []
  },
  {
   "cell_type": "markdown",
   "id": "4324ce24",
   "metadata": {},
   "source": [
    "# Write a program to accept 5 names from user and store these names into an array sort these array element in alphabetical order"
   ]
  },
  {
   "cell_type": "code",
   "execution_count": 26,
   "id": "32ffa5ef",
   "metadata": {},
   "outputs": [
    {
     "name": "stdout",
     "output_type": "stream",
     "text": [
      "ball\n",
      "at\n",
      "cat\n",
      "eat\n",
      "doll\n"
     ]
    },
    {
     "data": {
      "text/plain": [
       "['at', 'ball', 'cat', 'doll', 'eat']"
      ]
     },
     "execution_count": 26,
     "metadata": {},
     "output_type": "execute_result"
    }
   ],
   "source": [
    "str1 = []\n",
    "for n in range(5):\n",
    "    name=str(input())\n",
    "    str1.append(name)\n",
    "str1.sort()    \n",
    "str1    \n",
    "    "
   ]
  },
  {
   "cell_type": "markdown",
   "id": "ebb401a3",
   "metadata": {},
   "source": [
    "# Write a program to calculate the sum of digits of a given number"
   ]
  },
  {
   "cell_type": "code",
   "execution_count": 40,
   "id": "7d0df12f",
   "metadata": {},
   "outputs": [
    {
     "name": "stdout",
     "output_type": "stream",
     "text": [
      "123456\n",
      "21\n"
     ]
    }
   ],
   "source": [
    "n=int(input())\n",
    "l1=[]\n",
    "if (n<10):\n",
    "    print (\"digital sum=\",n)\n",
    "else:\n",
    "    S=str(n)\n",
    "    for i in S:\n",
    "        l1.append(int(i))\n",
    "    print(sum(l1))            \n",
    "    \n"
   ]
  },
  {
   "cell_type": "markdown",
   "id": "5087b5d2",
   "metadata": {},
   "source": [
    "# Write a program to calculate the sum of first digit and last digit of a given number"
   ]
  },
  {
   "cell_type": "code",
   "execution_count": 43,
   "id": "00c3feef",
   "metadata": {},
   "outputs": [
    {
     "name": "stdout",
     "output_type": "stream",
     "text": [
      "234567\n",
      "9\n"
     ]
    }
   ],
   "source": [
    "n= int(input())\n",
    "L=[]\n",
    "if (n<10):\n",
    "    print(\"Invalid input, please input two digit number\")\n",
    "else:\n",
    "    S=str(n)\n",
    "    for i in S:\n",
    "        L.append(int(i))\n",
    "    print(L[0]+L[-1])    "
   ]
  },
  {
   "cell_type": "markdown",
   "id": "9725238c",
   "metadata": {},
   "source": [
    "# Write a program to accept a string from user , delete all vowels from the string and display the result"
   ]
  },
  {
   "cell_type": "code",
   "execution_count": 15,
   "id": "b60e82b0",
   "metadata": {},
   "outputs": [
    {
     "name": "stdout",
     "output_type": "stream",
     "text": [
      "Enter the string rAhul dUbal\n",
      "rhl dbl\n"
     ]
    }
   ],
   "source": [
    "S=str(input(\"Enter the string \"))\n",
    "L=[]\n",
    "for i in S:\n",
    "    if i not in ('a','e','i','o','u','A','E','I','O','U'):\n",
    "        L.append(str(i))\n",
    "str1 = \"\"\n",
    "print (str1.join(L))    \n",
    "    \n",
    "    \n",
    "    "
   ]
  }
 ],
 "metadata": {
  "kernelspec": {
   "display_name": "Python 3 (ipykernel)",
   "language": "python",
   "name": "python3"
  },
  "language_info": {
   "codemirror_mode": {
    "name": "ipython",
    "version": 3
   },
   "file_extension": ".py",
   "mimetype": "text/x-python",
   "name": "python",
   "nbconvert_exporter": "python",
   "pygments_lexer": "ipython3",
   "version": "3.9.7"
  }
 },
 "nbformat": 4,
 "nbformat_minor": 5
}
