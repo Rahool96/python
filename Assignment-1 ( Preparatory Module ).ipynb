{
 "cells": [
  {
   "cell_type": "markdown",
   "id": "d28f26f6",
   "metadata": {},
   "source": [
    "# Write a program to display \"Hello\" if a number entered by user is a multiple of five , otherwise print \"Bye\""
   ]
  },
  {
   "cell_type": "code",
   "execution_count": 9,
   "id": "696ed193",
   "metadata": {},
   "outputs": [
    {
     "name": "stdout",
     "output_type": "stream",
     "text": [
      "enter the number\n",
      "50\n",
      "hello\n"
     ]
    }
   ],
   "source": [
    "print('enter the number')\n",
    "num=int(input())\n",
    "if(num % 5==0):\n",
    "    print('hello')\n",
    "else:    \n",
    "    print('Bye')"
   ]
  },
  {
   "cell_type": "markdown",
   "id": "29206826",
   "metadata": {},
   "source": [
    "# Write a program to check whether a number is divisible by 7 or not"
   ]
  },
  {
   "cell_type": "code",
   "execution_count": 11,
   "id": "f50e9135",
   "metadata": {},
   "outputs": [
    {
     "name": "stdout",
     "output_type": "stream",
     "text": [
      "Enter the number\n",
      "6\n",
      "number is not divisible 7\n"
     ]
    }
   ],
   "source": [
    "print('Enter the number')\n",
    "num=int(input())\n",
    "if(num%7==0):\n",
    "    print(\"number is divisible 7\")\n",
    "else:\n",
    "    print(\"number is not divisible 7\")"
   ]
  },
  {
   "cell_type": "markdown",
   "id": "5e2dac3f",
   "metadata": {},
   "source": [
    "# Write a program to check whether a person is eligible for voting or not"
   ]
  },
  {
   "cell_type": "code",
   "execution_count": 13,
   "id": "27fae5f5",
   "metadata": {},
   "outputs": [
    {
     "name": "stdout",
     "output_type": "stream",
     "text": [
      "Enter the age of person\n",
      "12\n",
      "person is not eligible for voting\n"
     ]
    }
   ],
   "source": [
    "print(\"Enter the age of person\")\n",
    "age = int (input())\n",
    "if(age>18):\n",
    "    print(\"person is eligible for voting\")\n",
    "else:\n",
    "    print(\"person is not eligible for voting\")"
   ]
  },
  {
   "cell_type": "markdown",
   "id": "01f9e767",
   "metadata": {},
   "source": [
    "# Write a program to check whether a number entered by user is even or odd"
   ]
  },
  {
   "cell_type": "code",
   "execution_count": 22,
   "id": "bfc703e0",
   "metadata": {},
   "outputs": [
    {
     "name": "stdout",
     "output_type": "stream",
     "text": [
      "Enter the number\n",
      "4\n",
      "nor even nor prime number\n"
     ]
    }
   ],
   "source": [
    "print(\"Enter the number\")\n",
    "number=int(input())\n",
    "if(number==0 or 1):\n",
    "    print(\"nor even nor prime number\")\n",
    "elif(number% 2 == 0):\n",
    "    print(\"number is even\")\n"
   ]
  },
  {
   "cell_type": "markdown",
   "id": "abd56782",
   "metadata": {},
   "source": [
    "# Write a program to calculate the electricity bill (accept number of unit from user) according to the following criteria : Unit Price\n",
    "First 100 units no charge Next 100 units Rs 5 per unit After 200 units Rs 10 per unit (For example if input unit is 350 than total bill amount is Rs2000"
   ]
  },
  {
   "cell_type": "code",
   "execution_count": 1,
   "id": "6f365b61",
   "metadata": {},
   "outputs": [
    {
     "name": "stdout",
     "output_type": "stream",
     "text": [
      "Enter the number of unit\n",
      "350\n",
      "Electricty bill = 2000\n"
     ]
    }
   ],
   "source": [
    "print(\"Enter the number of unit\")\n",
    "unit = int(input())\n",
    "if (unit<=100):\n",
    "    amount=0\n",
    "    print(\"Electricty bill =\",amount)\n",
    "elif (100<unit<=200):\n",
    "    amount=(unit-100)*5\n",
    "    print(\"Electricty bill =\",amount)\n",
    "elif (200<unit):\n",
    "    amount=(unit-200)*10+500\n",
    "    print(\"Electricty bill =\",amount)"
   ]
  },
  {
   "cell_type": "markdown",
   "id": "4ede3687",
   "metadata": {},
   "source": [
    "# Write a program to display the last digit of a number. "
   ]
  },
  {
   "cell_type": "code",
   "execution_count": 5,
   "id": "c8124915",
   "metadata": {},
   "outputs": [
    {
     "name": "stdout",
     "output_type": "stream",
     "text": [
      "enter the two digit number\n",
      "45\n",
      "Unit digit is 5\n"
     ]
    }
   ],
   "source": [
    "print(\"enter the two digit number\")\n",
    "num1=int(input())\n",
    "print(\"Unit digit is\",num1%10)"
   ]
  },
  {
   "cell_type": "markdown",
   "id": "15b173b8",
   "metadata": {},
   "source": [
    "# Write a program to accept percentage from the user and display the grade according to the following criteria"
   ]
  },
  {
   "cell_type": "markdown",
   "id": "67b82007",
   "metadata": {},
   "source": [
    " Marks                                    \n",
    "   > 90    A\n",
    "   > 80 and <= 90   B\n",
    "   >= 60 and <= 80    C\n",
    "    below 60  D"
   ]
  },
  {
   "cell_type": "code",
   "execution_count": 12,
   "id": "1ed5abb1",
   "metadata": {},
   "outputs": [
    {
     "name": "stdout",
     "output_type": "stream",
     "text": [
      "Enter the Percentage\n",
      "60\n",
      "Grade D\n"
     ]
    }
   ],
   "source": [
    "print(\"Enter the Percentage\")\n",
    "percent = float (input())\n",
    "if (percent>90.00):\n",
    "    print (\"Grade A\")\n",
    "elif(80<percent<=90.00):\n",
    "    print (\"Grade B\")\n",
    "elif(60<percent<=80.00):\n",
    "    print (\"Grade C\")\n",
    "elif(percent<=60.00):\n",
    "    print (\"Grade D\")    "
   ]
  },
  {
   "cell_type": "markdown",
   "id": "266ea95f",
   "metadata": {},
   "source": [
    "# Write a program to accept the cost price of a bike and display the road tax to be paid according to the following criteria :\n",
    " \n",
    " Cost price (in Rs)                 Tax\n",
    " \n",
    " > 100000                           15%\n",
    " \n",
    " > 50000 and <= 100000              10%\n",
    " \n",
    " <= 50000                            5%"
   ]
  },
  {
   "cell_type": "code",
   "execution_count": 1,
   "id": "0581b010",
   "metadata": {},
   "outputs": [
    {
     "name": "stdout",
     "output_type": "stream",
     "text": [
      "Enter the cost price of bike\n",
      "40000\n",
      "Road tax is 2000.0\n"
     ]
    }
   ],
   "source": [
    "print(\"Enter the cost price of bike\")\n",
    "cp=int(input())\n",
    "if(100000<cp):\n",
    "    rt=float(cp * 0.15)\n",
    "    print(\"Road tax is\", rt)\n",
    "elif(100000>=cp>50000):\n",
    "    rt=float(cp * 0.10)\n",
    "    print(\"Road tax is\", rt) \n",
    "elif(50000>=cp):\n",
    "    rt=float(cp * 0.05)\n",
    "    print(\"Road tax is\", rt)    "
   ]
  },
  {
   "cell_type": "markdown",
   "id": "e6c4b5e3",
   "metadata": {},
   "source": [
    "# Write a program to check whether an years is leap year or not"
   ]
  },
  {
   "cell_type": "code",
   "execution_count": 14,
   "id": "72e952b8",
   "metadata": {},
   "outputs": [
    {
     "name": "stdout",
     "output_type": "stream",
     "text": [
      "Enter the year\n",
      "1700\n",
      "Year is not leap year\n"
     ]
    }
   ],
   "source": [
    "print(\"Enter the year\")\n",
    "year = int(input())\n",
    "if(year%100==0):\n",
    "    if(year%400==0):\n",
    "        print(\"Year is leap year\")\n",
    "    else:\n",
    "        print(\"Year is not leap year\")  \n",
    "elif(year%4==0):\n",
    "    print(\"Year is leap year\")\n",
    "else:\n",
    "    print(\"Year is not leap year\")"
   ]
  },
  {
   "cell_type": "markdown",
   "id": "559b48d5",
   "metadata": {},
   "source": [
    "# Write a program to accept a number from 1 to 7 and display the name of the day like 1 for Sunday , 2 for Monday and so on"
   ]
  },
  {
   "cell_type": "code",
   "execution_count": 18,
   "id": "27b5bbf7",
   "metadata": {},
   "outputs": [
    {
     "name": "stdout",
     "output_type": "stream",
     "text": [
      "enter number \n",
      "5\n",
      "Friday\n"
     ]
    }
   ],
   "source": [
    "print(\"enter number \")\n",
    "num=int(input())\n",
    "if(0<num<8):\n",
    "    if(num==1):\n",
    "        print(\"Monday\")\n",
    "    elif(num==2):\n",
    "        print(\"Tuesday\")\n",
    "    elif(num==3):\n",
    "        print(\"Wednesday\")\n",
    "    elif(num==4):\n",
    "        print(\"Thrusday\")\n",
    "    elif(num==5):\n",
    "        print(\"Friday\")\n",
    "    elif(num==6):\n",
    "        print(\"Saturday\")    \n",
    "    elif(num==7):\n",
    "        print(\"Sunday\")\n",
    "else:\n",
    "    print(\"invalid input\")\n",
    "    \n",
    "  "
   ]
  },
  {
   "cell_type": "markdown",
   "id": "57b50247",
   "metadata": {},
   "source": [
    "# Accept any city from the user and display monument of that city.\n",
    "\n",
    "          City                                 Monument\n",
    "          \n",
    "          Delhi                               Red Fort\n",
    "          \n",
    "          Agra                                Taj Mahal\n",
    "          \n",
    "          Jaipur                              Jal Mahal"
   ]
  },
  {
   "cell_type": "code",
   "execution_count": 22,
   "id": "8203c13a",
   "metadata": {},
   "outputs": [
    {
     "name": "stdout",
     "output_type": "stream",
     "text": [
      "Enter the city\n",
      "Taj Mahal\n",
      "Invalid Input\n"
     ]
    }
   ],
   "source": [
    "print(\"Enter the city\")\n",
    "city=str(input())\n",
    "if(city==\"Delhi\"):\n",
    "    print(\"Red Fort\")\n",
    "elif(city==\"Agra\"):\n",
    "    print(\"Taj Mahal\")\n",
    "elif(city==\"Jaipur\"):\n",
    "    print(\"Jal Mahal\")\n",
    "else:\n",
    "    print(\"Invalid Input\")\n",
    " \n"
   ]
  },
  {
   "cell_type": "markdown",
   "id": "85dca58a",
   "metadata": {},
   "source": [
    "# Write a program to check whether a person is senior citizen or not"
   ]
  },
  {
   "cell_type": "code",
   "execution_count": 25,
   "id": "0aaa6981",
   "metadata": {},
   "outputs": [
    {
     "name": "stdout",
     "output_type": "stream",
     "text": [
      "Enter the age of person\n",
      "61\n",
      "Person is senior citizen\n"
     ]
    }
   ],
   "source": [
    "print(\"Enter the age of person\")\n",
    "age=int(input())\n",
    "if(age>60):\n",
    "    print(\"Person is senior citizen\")\n",
    "else:\n",
    "    print(\"person is not senior citizen\")\n",
    "    "
   ]
  },
  {
   "cell_type": "markdown",
   "id": "d67e35a9",
   "metadata": {},
   "source": [
    "# Write a program to whether a number (accepted from user) is divisible by 2 and 3 both"
   ]
  },
  {
   "cell_type": "code",
   "execution_count": 30,
   "id": "7459e018",
   "metadata": {},
   "outputs": [
    {
     "name": "stdout",
     "output_type": "stream",
     "text": [
      "enter the number\n",
      "15\n",
      "entered number is not divisible by 2 & 3\n"
     ]
    }
   ],
   "source": [
    "print(\"enter the number\")\n",
    "num=int(input())\n",
    "if(num%2==0 and num%3==0):\n",
    "    print(\"entered number is divisible by 2 & 3\")\n",
    "else:\n",
    "    print(\"entered number is not divisible by 2 & 3\")\n",
    "    "
   ]
  },
  {
   "cell_type": "markdown",
   "id": "abaa88a2",
   "metadata": {},
   "source": [
    "# Write a program to check whether a number (accepted from user) is positive or negative"
   ]
  },
  {
   "cell_type": "code",
   "execution_count": 32,
   "id": "eb488d6a",
   "metadata": {},
   "outputs": [
    {
     "name": "stdout",
     "output_type": "stream",
     "text": [
      "enter the number\n",
      "-1\n",
      "entered number is negative\n"
     ]
    }
   ],
   "source": [
    "print(\"enter the number\")\n",
    "num=int(input())\n",
    "if (num>=0):\n",
    "    print(\"entered number is positive\")\n",
    "else:\n",
    "    print(\"entered number is negative\")"
   ]
  },
  {
   "cell_type": "markdown",
   "id": "3cee3e50",
   "metadata": {},
   "source": [
    "# Accept the age of 4 people and display the youngest one"
   ]
  },
  {
   "cell_type": "code",
   "execution_count": 7,
   "id": "e52d2839",
   "metadata": {},
   "outputs": [
    {
     "name": "stdout",
     "output_type": "stream",
     "text": [
      "Enter the age of 4 persons\n",
      "20\n",
      "50\n",
      "10\n",
      "6\n",
      "50\n"
     ]
    }
   ],
   "source": [
    "print(\"Enter the age of 4 persons\")\n",
    "\n",
    "a=int(input())\n",
    "b=int(input())\n",
    "c=int(input())\n",
    "d=int(input())\n",
    "age=[a,b,c,d]\n",
    "\n",
    "print(max(age))\n"
   ]
  },
  {
   "cell_type": "markdown",
   "id": "78c30722",
   "metadata": {},
   "source": [
    "# Write a program to check a character is vowel or not."
   ]
  },
  {
   "cell_type": "code",
   "execution_count": 14,
   "id": "9c9e7ed7",
   "metadata": {},
   "outputs": [
    {
     "name": "stdout",
     "output_type": "stream",
     "text": [
      "Enter the character\n",
      "Noneb\n",
      "enter char is a consonant\n"
     ]
    }
   ],
   "source": [
    "a=str(input(print(\"Enter the character\")))\n",
    "list=['A','E','I','O','U','a','e','i','o','u']\n",
    "if len(a)==1:\n",
    "    if a in list:\n",
    "        print(\"enter char is a vowel\")\n",
    "    else:\n",
    "        print(\"enter char is a consonant\")\n",
    "else:\n",
    "    print(\"Invalid input\")"
   ]
  },
  {
   "cell_type": "markdown",
   "id": "943f21a9",
   "metadata": {},
   "source": [
    "# Accept the following from the user and calculate the percentage of class attended"
   ]
  },
  {
   "cell_type": "code",
   "execution_count": 17,
   "id": "743d0b02",
   "metadata": {},
   "outputs": [
    {
     "name": "stdout",
     "output_type": "stream",
     "text": [
      "total number of working days\n",
      "None100\n",
      "total number of absent days\n",
      "None40\n",
      "Student is not allowed to sit in exam\n"
     ]
    }
   ],
   "source": [
    "a=int(input(print(\"total number of working days\")))\n",
    "b=int(input(print(\"total number of absent days\")))\n",
    "precent=((a-b)/a)*100\n",
    "if (precent<75):\n",
    "    print(\"Student is not allowed to sit in exam\")"
   ]
  },
  {
   "cell_type": "markdown",
   "id": "77174c30",
   "metadata": {},
   "source": [
    "# Accept three sides of a triangle and check whether it is an equilateral, isosceles or scalene triangle."
   ]
  },
  {
   "cell_type": "code",
   "execution_count": null,
   "id": "fe96eb9d",
   "metadata": {},
   "outputs": [
    {
     "name": "stdout",
     "output_type": "stream",
     "text": [
      "Enter the sides to the triangle\n"
     ]
    }
   ],
   "source": [
    "print(\"Enter the sides to the triangle\")\n",
    "a=int(input())\n",
    "b=int(input())\n",
    "c=int(input())\n",
    "if (a==b==c):\n",
    "    print(\"It is an Equilateral Triangle\")\n",
    "elif (a==b or b==c or a==c):\n",
    "    print(\"It is an isosceles Triangle\")\n",
    "else:\n",
    "    print(\"It is an Scalene Triangle\")    "
   ]
  },
  {
   "cell_type": "markdown",
   "id": "4ad976b6",
   "metadata": {},
   "source": [
    "# Accept three sides of triangle and check whether the triangle is possible or not.\n",
    "(triangle is possible only when sum of any two sides is greater than 3rd side)"
   ]
  },
  {
   "cell_type": "code",
   "execution_count": 6,
   "id": "92a2e5c2",
   "metadata": {},
   "outputs": [
    {
     "name": "stdout",
     "output_type": "stream",
     "text": [
      "Enter the sides to the triangle\n",
      "3\n",
      "4\n",
      "7\n",
      "the triangle is possible\n"
     ]
    }
   ],
   "source": [
    "print(\"Enter the sides to the triangle\")\n",
    "a=int(input())\n",
    "b=int(input())\n",
    "c=int(input())\n",
    "if( ((a+b)>c) or ((b+c)>a) or ((a+c)>b) ):\n",
    "    print(\"the triangle is possible\")"
   ]
  }
 ],
 "metadata": {
  "kernelspec": {
   "display_name": "Python 3 (ipykernel)",
   "language": "python",
   "name": "python3"
  },
  "language_info": {
   "codemirror_mode": {
    "name": "ipython",
    "version": 3
   },
   "file_extension": ".py",
   "mimetype": "text/x-python",
   "name": "python",
   "nbconvert_exporter": "python",
   "pygments_lexer": "ipython3",
   "version": "3.9.7"
  }
 },
 "nbformat": 4,
 "nbformat_minor": 5
}
