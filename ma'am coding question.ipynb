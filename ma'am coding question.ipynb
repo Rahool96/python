{
 "cells": [
  {
   "cell_type": "code",
   "execution_count": 2,
   "id": "dcdbfa75",
   "metadata": {},
   "outputs": [],
   "source": [
    "## Q1). Write a program to reverse an integer in Python"
   ]
  },
  {
   "cell_type": "code",
   "execution_count": 7,
   "id": "9e317308",
   "metadata": {},
   "outputs": [
    {
     "name": "stdout",
     "output_type": "stream",
     "text": [
      "Enter a Number : 12345\n",
      "Reversed number :  54321\n"
     ]
    }
   ],
   "source": [
    "n=int(input(\"Enter a Number : \"))\n",
    "n1=n\n",
    "rev_n=0\n",
    "while n1>0:\n",
    "    rem = n1%10\n",
    "    n1=n1//10\n",
    "    rev_n=rev_n*10+rem\n",
    "print('Reversed number : ',rev_n)"
   ]
  },
  {
   "cell_type": "code",
   "execution_count": 9,
   "id": "a14b34c1",
   "metadata": {},
   "outputs": [
    {
     "name": "stdout",
     "output_type": "stream",
     "text": [
      "enter the num: 54321\n",
      "Reversed number : 12345\n"
     ]
    }
   ],
   "source": [
    "num=input(\"enter the num: \")\n",
    "rev_n=int(num[::-1])\n",
    "print('Reversed number :',rev_n)"
   ]
  },
  {
   "cell_type": "code",
   "execution_count": null,
   "id": "13cd30f9",
   "metadata": {},
   "outputs": [],
   "source": [
    "## Q2). Write a program in Python to check whether an integer is an Armstrong number or not."
   ]
  },
  {
   "cell_type": "code",
   "execution_count": 12,
   "id": "8a8025b8",
   "metadata": {},
   "outputs": [
    {
     "name": "stdout",
     "output_type": "stream",
     "text": [
      "Enter a number : 153\n",
      "153 is NOT a Armstrong number\n"
     ]
    }
   ],
   "source": [
    "num=int(input('Enter a number : '))\n",
    "n1=num\n",
    "arms_no = 0\n",
    "while n1>0:\n",
    "    rem=n1%10\n",
    "    arms_no += rem**3\n",
    "    n1=n1//10\n",
    "if arms_no==n1:\n",
    "    print(num,'is a Armstrong number')\n",
    "else:\n",
    "    print(num,'is NOT a Armstrong number')"
   ]
  },
  {
   "cell_type": "code",
   "execution_count": null,
   "id": "6591de35",
   "metadata": {},
   "outputs": [],
   "source": [
    "## Q3). Write a program in Python to check if a given number is prime or not."
   ]
  },
  {
   "cell_type": "code",
   "execution_count": 32,
   "id": "e492b0dc",
   "metadata": {},
   "outputs": [
    {
     "name": "stdout",
     "output_type": "stream",
     "text": [
      "Enter a number : 2\n",
      "2 is prime number.\n"
     ]
    }
   ],
   "source": [
    "num=int(input('Enter a number : '))\n",
    "flag = False\n",
    "for i in range (2,num):\n",
    "    if num%i ==0 :\n",
    "        flag=True\n",
    "        break\n",
    "if flag:\n",
    "    print(num,\"is NOT prime number.\")\n",
    "else:\n",
    "    print(num,\"is prime number.\")"
   ]
  },
  {
   "cell_type": "code",
   "execution_count": null,
   "id": "5b84b6df",
   "metadata": {},
   "outputs": [],
   "source": [
    "## Q4). Write a program in Python to print the Fibonacci series using an iterative method.\n",
    "# 0 1 1 2 3 5 8 13 21 34 55"
   ]
  },
  {
   "cell_type": "code",
   "execution_count": 6,
   "id": "bc955840",
   "metadata": {},
   "outputs": [
    {
     "name": "stdout",
     "output_type": "stream",
     "text": [
      "0 1 1 2 3 5 8 13 21 34 "
     ]
    }
   ],
   "source": [
    "num=0\n",
    "num1=1\n",
    "while num<50:\n",
    "    print(num,end=' ')\n",
    "    num2=num\n",
    "    num=num1\n",
    "    num1=num2+num"
   ]
  },
  {
   "cell_type": "code",
   "execution_count": null,
   "id": "9c2702a2",
   "metadata": {},
   "outputs": [],
   "source": [
    "## Q5). Write a program in Python to print the fibonacci series using a recursive method."
   ]
  },
  {
   "cell_type": "code",
   "execution_count": 2,
   "id": "7cb1ea26",
   "metadata": {},
   "outputs": [
    {
     "name": "stdout",
     "output_type": "stream",
     "text": [
      "1 2 3 4 5 6 7 8 9 10 "
     ]
    }
   ],
   "source": [
    "def printnum(n):\n",
    "    if n>0:\n",
    "        printnum(n-1)\n",
    "        print(n,end=\" \")\n",
    "printnum(10)\n",
    "    "
   ]
  },
  {
   "cell_type": "code",
   "execution_count": null,
   "id": "f925f39b",
   "metadata": {},
   "outputs": [],
   "source": [
    "## Q6). Write a program in Python to check whether a number is palindrome or not using an iterative method."
   ]
  },
  {
   "cell_type": "code",
   "execution_count": 5,
   "id": "5c4cc996",
   "metadata": {},
   "outputs": [
    {
     "name": "stdout",
     "output_type": "stream",
     "text": [
      "Enter a number: 123\n",
      "123 is NOT a palindrome number\n"
     ]
    }
   ],
   "source": [
    "num=int(input(\"Enter a number: \"))\n",
    "num1=num\n",
    "rev_no=0\n",
    "while num1>0:\n",
    "    rem=num1%10\n",
    "    num1=num1//10\n",
    "    rev_no=rev_no*10+rem\n",
    "if rev_no==num:\n",
    "    print(num,\"is a palindrome number\")\n",
    "else:\n",
    "    print(num,\"is NOT a palindrome number\")\n",
    "    "
   ]
  },
  {
   "cell_type": "code",
   "execution_count": null,
   "id": "a2001331",
   "metadata": {},
   "outputs": [],
   "source": [
    "## Q7). Write a program in Python to check whether a number is palindrome or not using a recursive method."
   ]
  },
  {
   "cell_type": "code",
   "execution_count": null,
   "id": "424a6614",
   "metadata": {},
   "outputs": [],
   "source": []
  },
  {
   "cell_type": "code",
   "execution_count": null,
   "id": "e1b4c4a9",
   "metadata": {},
   "outputs": [],
   "source": [
    "## Q8). Write a program in Python to find the greatest55 among three integers."
   ]
  },
  {
   "cell_type": "code",
   "execution_count": 13,
   "id": "d6fe72fa",
   "metadata": {},
   "outputs": [
    {
     "name": "stdout",
     "output_type": "stream",
     "text": [
      "50 is greatest\n"
     ]
    }
   ],
   "source": [
    "a=50\n",
    "b=40\n",
    "c=30\n",
    "if a>b and a>c:\n",
    "    print(a,'is greatest')\n",
    "elif b>a and b>c:\n",
    "    print(b,'is greatest')\n",
    "else:\n",
    "    print(c,'is greatest')"
   ]
  },
  {
   "cell_type": "code",
   "execution_count": null,
   "id": "b5b01e84",
   "metadata": {},
   "outputs": [],
   "source": [
    "## Q9). Write a program in Python to check if a number is binary?"
   ]
  },
  {
   "cell_type": "code",
   "execution_count": 2,
   "id": "c129f4f1",
   "metadata": {},
   "outputs": [
    {
     "data": {
      "text/plain": [
       "'0b10010110000'"
      ]
     },
     "execution_count": 2,
     "metadata": {},
     "output_type": "execute_result"
    }
   ],
   "source": [
    "s=bin(1200)\n",
    "s"
   ]
  },
  {
   "cell_type": "code",
   "execution_count": null,
   "id": "4843c60e",
   "metadata": {},
   "outputs": [],
   "source": [
    "## Q10). Write a program in Python to find the sum of digits of a number using recursion?"
   ]
  },
  {
   "cell_type": "code",
   "execution_count": null,
   "id": "c7983f29",
   "metadata": {},
   "outputs": [],
   "source": []
  },
  {
   "cell_type": "code",
   "execution_count": null,
   "id": "4d5d44d6",
   "metadata": {},
   "outputs": [],
   "source": [
    "## Q11). Write a program in Python to swap two numbers without using a third variable?"
   ]
  },
  {
   "cell_type": "code",
   "execution_count": 7,
   "id": "60dad116",
   "metadata": {},
   "outputs": [
    {
     "name": "stdout",
     "output_type": "stream",
     "text": [
      "Before swap a= 10 b= 20\n",
      "After swap a= 20 b= 10\n"
     ]
    }
   ],
   "source": [
    "a=10\n",
    "b=20\n",
    "print(\"Before swap a=\",a,\"b=\",b)\n",
    "a,b=b,a\n",
    "print(\"After swap a=\",a,\"b=\",b)"
   ]
  },
  {
   "cell_type": "code",
   "execution_count": 8,
   "id": "340375d0",
   "metadata": {},
   "outputs": [
    {
     "name": "stdout",
     "output_type": "stream",
     "text": [
      "Before swap a= 10 b= 20\n",
      "After swap a= 20 b= 10\n"
     ]
    }
   ],
   "source": [
    "a=10\n",
    "b=20\n",
    "print(\"Before swap a=\",a,\"b=\",b)\n",
    "a=a+b\n",
    "b=a-b\n",
    "a=a-b\n",
    "print(\"After swap a=\",a,\"b=\",b)"
   ]
  },
  {
   "cell_type": "code",
   "execution_count": null,
   "id": "91c14bfa",
   "metadata": {},
   "outputs": [],
   "source": [
    "## Q12). Write a program in Python to swap two numbers using a third variable?"
   ]
  },
  {
   "cell_type": "code",
   "execution_count": 6,
   "id": "21635549",
   "metadata": {},
   "outputs": [
    {
     "name": "stdout",
     "output_type": "stream",
     "text": [
      "Before swap a= 10 b= 20\n",
      "After swap a= 20 b= 10\n"
     ]
    }
   ],
   "source": [
    "a=10\n",
    "b=20\n",
    "print(\"Before swap a=\",a,\"b=\",b)\n",
    "c=a\n",
    "a=b\n",
    "b=c\n",
    "print(\"After swap a=\",a,\"b=\",b)"
   ]
  },
  {
   "cell_type": "code",
   "execution_count": null,
   "id": "336b9624",
   "metadata": {},
   "outputs": [],
   "source": [
    "## Q13). Write a program in Python to find prime factors of a given integer"
   ]
  },
  {
   "cell_type": "code",
   "execution_count": null,
   "id": "ebf85b85",
   "metadata": {},
   "outputs": [],
   "source": []
  },
  {
   "cell_type": "code",
   "execution_count": null,
   "id": "0b75a6e4",
   "metadata": {},
   "outputs": [],
   "source": [
    "## Q14). Write a program in Python to add two integers without using arithmetic operators?"
   ]
  },
  {
   "cell_type": "code",
   "execution_count": 22,
   "id": "faec3b87",
   "metadata": {},
   "outputs": [
    {
     "data": {
      "text/plain": [
       "30"
      ]
     },
     "execution_count": 22,
     "metadata": {},
     "output_type": "execute_result"
    }
   ],
   "source": [
    "a=10\n",
    "b=20\n",
    "a+=b\n",
    "a"
   ]
  },
  {
   "cell_type": "code",
   "execution_count": null,
   "id": "c5851c61",
   "metadata": {},
   "outputs": [],
   "source": [
    "## Q15). Write a program in Python to find if a given number is perfect or not?"
   ]
  },
  {
   "cell_type": "code",
   "execution_count": null,
   "id": "31496a92",
   "metadata": {},
   "outputs": [],
   "source": []
  },
  {
   "cell_type": "code",
   "execution_count": null,
   "id": "d06bba01",
   "metadata": {},
   "outputs": [],
   "source": [
    "## Q16). Python Program to find the Average of numbers with explanations."
   ]
  },
  {
   "cell_type": "code",
   "execution_count": null,
   "id": "5f3bfd96",
   "metadata": {},
   "outputs": [],
   "source": []
  },
  {
   "cell_type": "code",
   "execution_count": null,
   "id": "1fa00f0b",
   "metadata": {},
   "outputs": [],
   "source": [
    "## Q17). Python Program to calculate factorial using iterative method."
   ]
  },
  {
   "cell_type": "code",
   "execution_count": 35,
   "id": "4a49c773",
   "metadata": {},
   "outputs": [
    {
     "name": "stdout",
     "output_type": "stream",
     "text": [
      "Enter number: 5\n",
      "factorial of 5 is 120\n"
     ]
    }
   ],
   "source": [
    "num=int(input(\"Enter number: \"))\n",
    "fact=1\n",
    "for i in range(1,num+1):\n",
    "    fact*=i\n",
    "print(\"factorial of\",num,\"is\",fact)"
   ]
  },
  {
   "cell_type": "code",
   "execution_count": null,
   "id": "7b686154",
   "metadata": {},
   "outputs": [],
   "source": [
    "## Q18). Python Program to calculate factorial using recursion."
   ]
  },
  {
   "cell_type": "code",
   "execution_count": 39,
   "id": "bd3a3f30",
   "metadata": {},
   "outputs": [
    {
     "name": "stdout",
     "output_type": "stream",
     "text": [
      "factorial of 5 is 120\n"
     ]
    }
   ],
   "source": [
    "def fact(n):\n",
    "    if(n<0):\n",
    "        print('Invalid number')\n",
    "        return 0\n",
    "    elif(n==0):\n",
    "        return 1\n",
    "    return n*fact(n-1)\n",
    "    \n",
    "print(\"factorial of\",num,\"is\",fact(5))"
   ]
  },
  {
   "cell_type": "code",
   "execution_count": null,
   "id": "f467856a",
   "metadata": {},
   "outputs": [],
   "source": [
    "## Q19). Python Program to check if a given number is even or odd."
   ]
  },
  {
   "cell_type": "code",
   "execution_count": 4,
   "id": "e4b321c9",
   "metadata": {},
   "outputs": [
    {
     "name": "stdout",
     "output_type": "stream",
     "text": [
      "enter the number: 19\n",
      "This is odd no\n"
     ]
    }
   ],
   "source": [
    "x=int(input(\"enter the number: \"))\n",
    "if x%2==0:\n",
    "    print(\"This is even no\")\n",
    "else:\n",
    "    print(\"This is odd no\")"
   ]
  },
  {
   "cell_type": "code",
   "execution_count": null,
   "id": "c859ed0a",
   "metadata": {},
   "outputs": [],
   "source": [
    "x=int(input(\"enter the number: \"))\n",
    "num=2\n",
    "if x==0 or x==1:\n",
    "    print(\"This is even no\")\n",
    "while True:\n",
    "    if x==2"
   ]
  },
  {
   "cell_type": "code",
   "execution_count": null,
   "id": "cb92b374",
   "metadata": {},
   "outputs": [],
   "source": [
    "## Q20). Python program to print first n Prime Number with explanation."
   ]
  },
  {
   "cell_type": "code",
   "execution_count": null,
   "id": "8342e459",
   "metadata": {},
   "outputs": [],
   "source": [
    "n=int(input(\"Enter a number: \"))\n",
    "for i in range(n):\n",
    "    flag=True\n",
    "    while\n",
    "    "
   ]
  },
  {
   "cell_type": "code",
   "execution_count": null,
   "id": "a3e1af9e",
   "metadata": {},
   "outputs": [],
   "source": [
    "## Q21). Python Program to print Prime Number in a given range"
   ]
  },
  {
   "cell_type": "code",
   "execution_count": 2,
   "id": "3b28657b",
   "metadata": {},
   "outputs": [
    {
     "name": "stdout",
     "output_type": "stream",
     "text": [
      "Enter a number: 11\n",
      "2 3 5 7 11 "
     ]
    }
   ],
   "source": [
    "u=int(input(\"Enter a number: \"))\n",
    "for n in range(2,u+1):\n",
    "    if n>1:\n",
    "        flag=False\n",
    "        for i in range(2,n):\n",
    "            if n%i==0:\n",
    "                flag=True\n",
    "        if flag==False:\n",
    "            print(n,end=' ')"
   ]
  },
  {
   "cell_type": "code",
   "execution_count": null,
   "id": "5ecabfe8",
   "metadata": {},
   "outputs": [],
   "source": [
    "## Q22). Python Program to find Smallest number among three."
   ]
  },
  {
   "cell_type": "code",
   "execution_count": 13,
   "id": "b90ae726",
   "metadata": {},
   "outputs": [],
   "source": [
    "a,b,c=20,20,30\n",
    "\n",
    "    "
   ]
  },
  {
   "cell_type": "code",
   "execution_count": null,
   "id": "43474563",
   "metadata": {},
   "outputs": [],
   "source": [
    "## Q23). Python program to calculate the power using the POW method."
   ]
  },
  {
   "cell_type": "code",
   "execution_count": 43,
   "id": "a66dd285",
   "metadata": {},
   "outputs": [
    {
     "data": {
      "text/plain": [
       "121"
      ]
     },
     "execution_count": 43,
     "metadata": {},
     "output_type": "execute_result"
    }
   ],
   "source": [
    "pow(11,2)"
   ]
  },
  {
   "cell_type": "code",
   "execution_count": null,
   "id": "ed575a2a",
   "metadata": {},
   "outputs": [],
   "source": [
    "## Q24). Python Program to calculate the power without using POW function.(using for loop)"
   ]
  },
  {
   "cell_type": "code",
   "execution_count": 56,
   "id": "f3e8095c",
   "metadata": {},
   "outputs": [
    {
     "name": "stdout",
     "output_type": "stream",
     "text": [
      "Enter the number: 12\n",
      "Enter the power: 2\n",
      "144\n"
     ]
    }
   ],
   "source": [
    "num=int(input(\"Enter the number: \"))\n",
    "pov=int(input(\"Enter the power: \"))\n",
    "ans=1\n",
    "for i in range(pov):\n",
    "    ans*=num\n",
    "print(ans)\n"
   ]
  },
  {
   "cell_type": "code",
   "execution_count": null,
   "id": "8ebd5a43",
   "metadata": {},
   "outputs": [],
   "source": [
    "## Q25). Python Program to calculate the power without using POW function.(using while loop)."
   ]
  },
  {
   "cell_type": "code",
   "execution_count": 68,
   "id": "eea82639",
   "metadata": {},
   "outputs": [
    {
     "name": "stdout",
     "output_type": "stream",
     "text": [
      "Enter the number: 5\n",
      "Enter the power: 3\n",
      "125\n"
     ]
    }
   ],
   "source": [
    "num=int(input(\"Enter the number: \"))\n",
    "pov=int(input(\"Enter the power: \"))\n",
    "ans=1\n",
    "while pov>0:\n",
    "    ans*=num\n",
    "    pov-=1\n",
    "print(ans)"
   ]
  },
  {
   "cell_type": "code",
   "execution_count": 67,
   "id": "5b689eab",
   "metadata": {},
   "outputs": [],
   "source": [
    "## Q26). Python Program to calculate the square of a given number."
   ]
  },
  {
   "cell_type": "code",
   "execution_count": 58,
   "id": "fc1f5cce",
   "metadata": {},
   "outputs": [
    {
     "name": "stdout",
     "output_type": "stream",
     "text": [
      "Enter the number: 3\n",
      "Square of 3 is 9\n"
     ]
    }
   ],
   "source": [
    "num=int(input(\"Enter the number: \"))\n",
    "sq=num**2\n",
    "print(\"Square of\",num,\"is\",sq)"
   ]
  },
  {
   "cell_type": "code",
   "execution_count": null,
   "id": "290efafa",
   "metadata": {},
   "outputs": [],
   "source": [
    "## Q27). Python Program to calculate the cube of a given number"
   ]
  },
  {
   "cell_type": "code",
   "execution_count": 70,
   "id": "f0354d15",
   "metadata": {},
   "outputs": [
    {
     "name": "stdout",
     "output_type": "stream",
     "text": [
      "Enter the number: 3\n",
      "Cube of 3 is 27\n"
     ]
    }
   ],
   "source": [
    "num=int(input(\"Enter the number: \"))\n",
    "sq=num**3\n",
    "print(\"Cube of\",num,\"is\",sq)"
   ]
  },
  {
   "cell_type": "code",
   "execution_count": null,
   "id": "f78ddfbe",
   "metadata": {},
   "outputs": [],
   "source": [
    "## Q28). Python Program to calculate the square root of a given number."
   ]
  },
  {
   "cell_type": "code",
   "execution_count": 75,
   "id": "b282080d",
   "metadata": {},
   "outputs": [
    {
     "name": "stdout",
     "output_type": "stream",
     "text": [
      "Enter the number: 256\n",
      "Square root of 256 is 16\n"
     ]
    }
   ],
   "source": [
    "num=int(input(\"Enter the number: \"))\n",
    "sq=int(num**0.5)\n",
    "print(\"Square root of\",num,\"is\",sq)"
   ]
  },
  {
   "cell_type": "code",
   "execution_count": null,
   "id": "c51cd00c",
   "metadata": {},
   "outputs": [],
   "source": [
    "## Q29). Python program to calculate LCM of given two numbers."
   ]
  },
  {
   "cell_type": "code",
   "execution_count": null,
   "id": "b023bbef",
   "metadata": {},
   "outputs": [],
   "source": []
  },
  {
   "cell_type": "code",
   "execution_count": null,
   "id": "5f2b2fc9",
   "metadata": {},
   "outputs": [],
   "source": [
    "## Q30). Python Program to find GCD or HCF of two numbers."
   ]
  },
  {
   "cell_type": "code",
   "execution_count": null,
   "id": "6a36bb68",
   "metadata": {},
   "outputs": [],
   "source": []
  },
  {
   "cell_type": "code",
   "execution_count": null,
   "id": "2f73f01f",
   "metadata": {},
   "outputs": [],
   "source": [
    "## Q31). Python Program to find GCD of two numbers using recursion."
   ]
  },
  {
   "cell_type": "code",
   "execution_count": null,
   "id": "4895c97f",
   "metadata": {},
   "outputs": [],
   "source": []
  },
  {
   "cell_type": "code",
   "execution_count": null,
   "id": "df8a5ecf",
   "metadata": {},
   "outputs": [],
   "source": [
    "## Q32). Python Program to Convert Decimal Number into Binary."
   ]
  },
  {
   "cell_type": "code",
   "execution_count": 23,
   "id": "56a99bb6",
   "metadata": {},
   "outputs": [
    {
     "name": "stdout",
     "output_type": "stream",
     "text": [
      "Enter the num: 4\n",
      "0100\n"
     ]
    }
   ],
   "source": [
    "dec=int(input(\"Enter the num: \"))\n",
    "temp=dec\n",
    "binary=''\n",
    "while temp>0:\n",
    "    rem=temp%2\n",
    "    binary=str(rem)+binary\n",
    "    temp//=2\n",
    "if len(binary)%2==0:\n",
    "    print(binary)\n",
    "else:\n",
    "    print('0'+binary)"
   ]
  },
  {
   "cell_type": "code",
   "execution_count": 22,
   "id": "40e1bc57",
   "metadata": {},
   "outputs": [
    {
     "name": "stdout",
     "output_type": "stream",
     "text": [
      "Enter the num: 4\n",
      "0100"
     ]
    }
   ],
   "source": [
    "### method 1:recursive solution\n",
    "def DecimalToBinary(num):\n",
    "    if num >= 1:\n",
    "        DecimalToBinary(num//2)\n",
    "    print(num%2, end = '')\n",
    "if __name__ == '__main__':\n",
    "    \n",
    "    dec_val=int(input(\"Enter the num: \"))\n",
    "    \n",
    "    DecimalToBinary(dec_val)"
   ]
  },
  {
   "cell_type": "code",
   "execution_count": null,
   "id": "bc0869fe",
   "metadata": {},
   "outputs": [],
   "source": [
    "## Q33). Python Program to convert Decimal number to Octal number."
   ]
  },
  {
   "cell_type": "code",
   "execution_count": 27,
   "id": "d7631203",
   "metadata": {},
   "outputs": [
    {
     "name": "stdout",
     "output_type": "stream",
     "text": [
      "Enter the num: 12\n",
      "12\n"
     ]
    }
   ],
   "source": [
    "## Decimal to binary using in-built function\n",
    "def DecimalToBinary(n):\n",
    "    return bin(n).replace(\"0b\", \"\")\n",
    "if __name__ == '__main__':\n",
    "    DecimalToBinary=int(input(\"Enter the num: \"))\n",
    "    \n",
    "    print(DecimalToBinary)"
   ]
  },
  {
   "cell_type": "code",
   "execution_count": null,
   "id": "40bef00c",
   "metadata": {},
   "outputs": [],
   "source": [
    "## Q34). Python Program to check the given year is a leap year or not."
   ]
  },
  {
   "cell_type": "code",
   "execution_count": 16,
   "id": "4b8fb02c",
   "metadata": {},
   "outputs": [
    {
     "name": "stdout",
     "output_type": "stream",
     "text": [
      "Enter the year: 1992\n",
      "This is leap year\n"
     ]
    }
   ],
   "source": [
    "year=int(input(\"Enter the year: \"))\n",
    "if year%400==0:\n",
    "    print(\"This is leap year\")\n",
    "elif year%100!=0 and year%4==0:\n",
    "    print(\"This is leap year\")\n",
    "else:\n",
    "    print(\"this is noramal year\")"
   ]
  },
  {
   "cell_type": "code",
   "execution_count": 15,
   "id": "cb22dff4",
   "metadata": {},
   "outputs": [],
   "source": [
    "## Q35). Python Program to convert Celsius to Fahrenheit."
   ]
  },
  {
   "cell_type": "code",
   "execution_count": 23,
   "id": "851a6e25",
   "metadata": {},
   "outputs": [
    {
     "name": "stdout",
     "output_type": "stream",
     "text": [
      " Enter temperature in Centigrade: 35\n",
      " Temperature in Fahrenheit is:  95.0\n"
     ]
    }
   ],
   "source": [
    "c = float(input(\" Enter temperature in Centigrade: \"))\n",
    "f = (9*(c)/5)+32\n",
    "print(\" Temperature in Fahrenheit is: \", f)"
   ]
  },
  {
   "cell_type": "code",
   "execution_count": null,
   "id": "978b6cb0",
   "metadata": {},
   "outputs": [],
   "source": [
    "## Q36). Python Program to convert Fahrenheit to Celsius."
   ]
  },
  {
   "cell_type": "code",
   "execution_count": 24,
   "id": "3000aec3",
   "metadata": {},
   "outputs": [
    {
     "name": "stdout",
     "output_type": "stream",
     "text": [
      " Enter temperature in fahrenheit: 91.5\n",
      " Temperature in centigrade is:  33.05555555555556\n"
     ]
    }
   ],
   "source": [
    "f = float(input(\" Enter temperature in fahrenheit: \"))\n",
    "c= (5*(f-32)/9)\n",
    "print(\" Temperature in centigrade is: \", c)"
   ]
  },
  {
   "cell_type": "code",
   "execution_count": null,
   "id": "24e24420",
   "metadata": {},
   "outputs": [],
   "source": [
    "## Q37). Python program to calculate Simple Interest with explanation."
   ]
  },
  {
   "cell_type": "code",
   "execution_count": 22,
   "id": "02fc8551",
   "metadata": {},
   "outputs": [
    {
     "name": "stdout",
     "output_type": "stream",
     "text": [
      "Enter the Amount: 1200\n",
      "enter the rate: 2\n",
      "enter the time in months: 12\n",
      "288.0\n"
     ]
    }
   ],
   "source": [
    "p=float(input(\"Enter the Amount: \"))\n",
    "q=float(input(\"enter the rate: \"))\n",
    "t=float(input(\"enter the time in months: \"))\n",
    "Interest=(p*q*t)/100\n",
    "print(Interest)"
   ]
  },
  {
   "cell_type": "markdown",
   "id": "64891dbd",
   "metadata": {},
   "source": [
    "# Python Coding Questions on String"
   ]
  },
  {
   "cell_type": "code",
   "execution_count": null,
   "id": "7b1487c7",
   "metadata": {},
   "outputs": [],
   "source": [
    "## Q1). Python program to remove given character from String."
   ]
  },
  {
   "cell_type": "code",
   "execution_count": 76,
   "id": "6bb46635",
   "metadata": {},
   "outputs": [
    {
     "name": "stdout",
     "output_type": "stream",
     "text": [
      "Enter the String: rahul@gmail.com\n",
      "Enter the charecher: @\n"
     ]
    },
    {
     "data": {
      "text/plain": [
       "'rahulgmail.com'"
      ]
     },
     "execution_count": 76,
     "metadata": {},
     "output_type": "execute_result"
    }
   ],
   "source": [
    "str1=input(\"Enter the String: \")\n",
    "char=input(\"Enter the charecher: \")\n",
    "str2=\"\"\n",
    "for i in str1:\n",
    "    if i!=char:\n",
    "        str2+=i\n",
    "str2"
   ]
  },
  {
   "cell_type": "code",
   "execution_count": null,
   "id": "edc29308",
   "metadata": {},
   "outputs": [],
   "source": [
    "## Q2). Python Program to count occurrences of a given character in string."
   ]
  },
  {
   "cell_type": "code",
   "execution_count": 77,
   "id": "f3cdf7ad",
   "metadata": {},
   "outputs": [
    {
     "name": "stdout",
     "output_type": "stream",
     "text": [
      "Enter the String: best thing about life is tomorrow never comes\n",
      "Enter the charecher: e\n"
     ]
    },
    {
     "data": {
      "text/plain": [
       "5"
      ]
     },
     "execution_count": 77,
     "metadata": {},
     "output_type": "execute_result"
    }
   ],
   "source": [
    "str1=input(\"Enter the String: \")\n",
    "char=input(\"Enter the character: \")\n",
    "count=0\n",
    "for i in str1:\n",
    "    if i==char:\n",
    "        count+=1\n",
    "count"
   ]
  },
  {
   "cell_type": "code",
   "execution_count": null,
   "id": "f3f060de",
   "metadata": {},
   "outputs": [],
   "source": [
    "## Q3). Python Program to check if two Strings are Anagram."
   ]
  },
  {
   "cell_type": "code",
   "execution_count": 81,
   "id": "134ceba8",
   "metadata": {},
   "outputs": [
    {
     "name": "stdout",
     "output_type": "stream",
     "text": [
      "Enter the String1: ferry\n",
      "Enter the String2: fery\n",
      "Two Strings are NOT in Anagram\n"
     ]
    }
   ],
   "source": [
    "str1=input(\"Enter the String1: \")\n",
    "str2=input(\"Enter the String2: \")\n",
    "\n",
    "if sorted(str1)==sorted(str2):\n",
    "    print(\"Two Strings are in  Anagram\")\n",
    "else:\n",
    "    print(\"Two Strings are NOT in Anagram\")"
   ]
  },
  {
   "cell_type": "code",
   "execution_count": null,
   "id": "aa2a737a",
   "metadata": {},
   "outputs": [],
   "source": [
    "## Q4). Python program to check if a String is palindrome or not."
   ]
  },
  {
   "cell_type": "code",
   "execution_count": 3,
   "id": "0452ec91",
   "metadata": {},
   "outputs": [
    {
     "name": "stdout",
     "output_type": "stream",
     "text": [
      "Enter the String1: ewr\n",
      "ewr is NOT palindrome\n"
     ]
    }
   ],
   "source": [
    "str1=input(\"Enter the String1: \")\n",
    "if str1==str1[::-1]:\n",
    "    print(str1,\"is palindrome\")\n",
    "else:\n",
    "    print(str1,\"is NOT palindrome\")"
   ]
  },
  {
   "cell_type": "code",
   "execution_count": null,
   "id": "88d76ea5",
   "metadata": {},
   "outputs": [],
   "source": [
    "## Q5). Python program to check if a given character is a vowel or consonant."
   ]
  },
  {
   "cell_type": "code",
   "execution_count": 89,
   "id": "fdc1d48d",
   "metadata": {},
   "outputs": [
    {
     "name": "stdout",
     "output_type": "stream",
     "text": [
      "Enter the String1: z\n",
      "Given character is not a vowel\n"
     ]
    }
   ],
   "source": [
    "str1=input(\"Enter the String1: \")\n",
    "l1=['a','e','i','o','u']\n",
    "if str1.lower() in l1:\n",
    "    print(\"Given character is a vowel\")\n",
    "else:\n",
    "    print(\"Given character is not a vowel\")"
   ]
  },
  {
   "cell_type": "code",
   "execution_count": null,
   "id": "cc35b454",
   "metadata": {},
   "outputs": [],
   "source": [
    "## Q6). Python program to check if a given character is digit or not."
   ]
  },
  {
   "cell_type": "code",
   "execution_count": 92,
   "id": "695d3697",
   "metadata": {},
   "outputs": [
    {
     "name": "stdout",
     "output_type": "stream",
     "text": [
      "Enter the String1: r\n",
      "Charcter in not a digit\n"
     ]
    }
   ],
   "source": [
    "str1=input(\"Enter the String1: \")\n",
    "try:\n",
    "    num=int(str1)\n",
    "except ValueError:\n",
    "    print(\"Charcter in not a digit\")\n",
    "else:\n",
    "    print(\"Character is digit\")"
   ]
  },
  {
   "cell_type": "code",
   "execution_count": null,
   "id": "91694923",
   "metadata": {},
   "outputs": [],
   "source": [
    "## Q7). Python program to check if a given character is digit or not using isdigit() method."
   ]
  },
  {
   "cell_type": "code",
   "execution_count": 97,
   "id": "9a4e3243",
   "metadata": {},
   "outputs": [
    {
     "name": "stdout",
     "output_type": "stream",
     "text": [
      "Enter char: 12\n",
      "Charcter in digit\n"
     ]
    }
   ],
   "source": [
    "chr1=input(\"Enter char: \")\n",
    "if chr1.isdigit():\n",
    "    print(\"Charcter in digit\")\n",
    "else:\n",
    "    print(\"Character is not a digit\")"
   ]
  },
  {
   "cell_type": "code",
   "execution_count": null,
   "id": "a2dbf14e",
   "metadata": {},
   "outputs": [],
   "source": [
    "## Q8). Python program to replace the string space with a given character."
   ]
  },
  {
   "cell_type": "code",
   "execution_count": null,
   "id": "0fc65317",
   "metadata": {},
   "outputs": [],
   "source": [
    "str1=input(\"Enter the String: \")\n",
    "char=input(\"Enter the character: \")\n",
    "str2=\"\"\n",
    "for i in str1:\n",
    "    if i==' ':\n",
    "        str2+=char\n",
    "str2"
   ]
  },
  {
   "cell_type": "code",
   "execution_count": null,
   "id": "d07ef07c",
   "metadata": {},
   "outputs": [],
   "source": [
    "## Q9). Python program to replace the string space with a given character using replace() method."
   ]
  },
  {
   "cell_type": "code",
   "execution_count": 4,
   "id": "23a30fc7",
   "metadata": {},
   "outputs": [
    {
     "name": "stdout",
     "output_type": "stream",
     "text": [
      "Enter the String: rahul dubal\n",
      "Enter the charecher: $\n"
     ]
    },
    {
     "data": {
      "text/plain": [
       "'rahul$dubal'"
      ]
     },
     "execution_count": 4,
     "metadata": {},
     "output_type": "execute_result"
    }
   ],
   "source": [
    "str1=input(\"Enter the String: \")\n",
    "char=input(\"Enter the character: \")\n",
    "str1.replace(\" \",char)"
   ]
  },
  {
   "cell_type": "code",
   "execution_count": null,
   "id": "258dd148",
   "metadata": {},
   "outputs": [],
   "source": [
    "## Q10). Python program to convert lowercase char to uppercase of string."
   ]
  },
  {
   "cell_type": "code",
   "execution_count": 16,
   "id": "421dac22",
   "metadata": {},
   "outputs": [
    {
     "name": "stdout",
     "output_type": "stream",
     "text": [
      "Enter the String: Rahul Dubal\n"
     ]
    },
    {
     "data": {
      "text/plain": [
       "'RAHUL DUBAL'"
      ]
     },
     "execution_count": 16,
     "metadata": {},
     "output_type": "execute_result"
    }
   ],
   "source": [
    "str1=input(\"Enter the String: \")\n",
    "str2=\"\"\n",
    "for i in str1:\n",
    "    if ord(i)>=97 and ord(i)<=122:\n",
    "        str2+=chr(ord(i)-32)\n",
    "    else:\n",
    "        str2+=i\n",
    "str2"
   ]
  },
  {
   "cell_type": "code",
   "execution_count": null,
   "id": "16faae90",
   "metadata": {},
   "outputs": [],
   "source": [
    "## Q11). Python program to convert lowercase vowels to uppercase in string."
   ]
  },
  {
   "cell_type": "code",
   "execution_count": null,
   "id": "2978f233",
   "metadata": {},
   "outputs": [],
   "source": []
  },
  {
   "cell_type": "code",
   "execution_count": null,
   "id": "525d845a",
   "metadata": {},
   "outputs": [],
   "source": [
    "## Q12). Python program to delete vowels in a given string."
   ]
  },
  {
   "cell_type": "code",
   "execution_count": 23,
   "id": "e253c73c",
   "metadata": {},
   "outputs": [
    {
     "name": "stdout",
     "output_type": "stream",
     "text": [
      "Enter the String: qiweu\n",
      "qw\n"
     ]
    }
   ],
   "source": [
    "str1=input(\"Enter the String: \")\n",
    "l1=['a','e','i','o','u']\n",
    "for i in str1:\n",
    "    if i.lower() in l1:\n",
    "        str1=str1.replace(i,'')\n",
    "print(str1)"
   ]
  },
  {
   "cell_type": "code",
   "execution_count": null,
   "id": "5a7b1953",
   "metadata": {},
   "outputs": [],
   "source": [
    "## Q13). Python program to count Occurrence Of Vowels & Consonants in a String."
   ]
  },
  {
   "cell_type": "code",
   "execution_count": null,
   "id": "e1a7ed5b",
   "metadata": {},
   "outputs": [],
   "source": []
  },
  {
   "cell_type": "code",
   "execution_count": null,
   "id": "efe27fe6",
   "metadata": {},
   "outputs": [],
   "source": [
    "## Q14). Python program to print the highest frequency character in a String."
   ]
  },
  {
   "cell_type": "code",
   "execution_count": 25,
   "id": "70d53249",
   "metadata": {},
   "outputs": [
    {
     "name": "stdout",
     "output_type": "stream",
     "text": [
      "Enter the String: aaaaaana\n",
      "charcter: a ,has highest frequency of 7\n"
     ]
    }
   ],
   "source": [
    "string=input(\"Enter the String: \")\n",
    "string1=string.lower()\n",
    "c=0\n",
    "for i in string1:\n",
    "    if string1.count(i)>c:\n",
    "        c=string.count(i)\n",
    "        a=i\n",
    "print(\"charcter:\",a,\",has highest frequency of\",c)"
   ]
  },
  {
   "cell_type": "code",
   "execution_count": null,
   "id": "0344dcee",
   "metadata": {},
   "outputs": [],
   "source": [
    "## Q15). Python program to Replace First Occurrence Of Vowel With ‘-‘ in String."
   ]
  },
  {
   "cell_type": "code",
   "execution_count": null,
   "id": "6f47a848",
   "metadata": {},
   "outputs": [],
   "source": []
  },
  {
   "cell_type": "code",
   "execution_count": null,
   "id": "5577520e",
   "metadata": {},
   "outputs": [],
   "source": [
    "## Q16). Python program to count alphabets, digits and special characters."
   ]
  },
  {
   "cell_type": "code",
   "execution_count": 23,
   "id": "25f267d8",
   "metadata": {},
   "outputs": [
    {
     "name": "stdout",
     "output_type": "stream",
     "text": [
      "alphabets count : 25 digits count : 4 special characters count : 10\n"
     ]
    }
   ],
   "source": [
    "string = \"R@hool R@mchandra Dub@l (RD) since_1996\"\n",
    "alpha_count=0\n",
    "digit_count=0\n",
    "sp_char_count=0\n",
    "for i in string:\n",
    "    if i.isalpha():\n",
    "        alpha_count+=1\n",
    "    elif i.isnumeric():\n",
    "        digit_count+=1\n",
    "    else :\n",
    "        sp_char_count+=1\n",
    "print('alphabets count :',alpha_count,'digits count :',digit_count,'special characters count :',sp_char_count)\n",
    "    "
   ]
  },
  {
   "cell_type": "code",
   "execution_count": null,
   "id": "ae45eafd",
   "metadata": {},
   "outputs": [],
   "source": [
    "## Q17). Python program to separate characters in a given string."
   ]
  },
  {
   "cell_type": "code",
   "execution_count": null,
   "id": "cda42884",
   "metadata": {},
   "outputs": [],
   "source": []
  },
  {
   "cell_type": "code",
   "execution_count": null,
   "id": "3679dc12",
   "metadata": {},
   "outputs": [],
   "source": [
    "## Q18). Python program to remove blank space from string."
   ]
  },
  {
   "cell_type": "code",
   "execution_count": null,
   "id": "9cf17bf2",
   "metadata": {},
   "outputs": [],
   "source": []
  },
  {
   "cell_type": "code",
   "execution_count": null,
   "id": "285e9e8e",
   "metadata": {},
   "outputs": [],
   "source": [
    "## Q19). Python program to concatenate two strings using join() method."
   ]
  },
  {
   "cell_type": "code",
   "execution_count": null,
   "id": "9b2a1419",
   "metadata": {},
   "outputs": [],
   "source": []
  },
  {
   "cell_type": "code",
   "execution_count": null,
   "id": "6eb563e1",
   "metadata": {},
   "outputs": [],
   "source": [
    "## Q20). Python program to concatenate two strings using join() method."
   ]
  },
  {
   "cell_type": "code",
   "execution_count": 25,
   "id": "b1949a27",
   "metadata": {},
   "outputs": [
    {
     "name": "stdout",
     "output_type": "stream",
     "text": [
      "Rahul Dubal\n"
     ]
    }
   ],
   "source": [
    "s1='Rahul'\n",
    "s2='Dubal'\n",
    "print(' '.join([s1,s2]))"
   ]
  },
  {
   "cell_type": "code",
   "execution_count": null,
   "id": "36cfa965",
   "metadata": {},
   "outputs": [],
   "source": [
    "## Q21). Python program to remove repeated characters from string."
   ]
  },
  {
   "cell_type": "code",
   "execution_count": 8,
   "id": "dc15100d",
   "metadata": {},
   "outputs": [
    {
     "data": {
      "text/plain": [
       "'rh db'"
      ]
     },
     "execution_count": 8,
     "metadata": {},
     "output_type": "execute_result"
    }
   ],
   "source": [
    "string=\"rahul dubal\"\n",
    "for i in string:\n",
    "    if i!=' ':\n",
    "        c=string.count(i)\n",
    "        if c>1:\n",
    "            string=string.replace(i,'')\n",
    "string"
   ]
  },
  {
   "cell_type": "code",
   "execution_count": null,
   "id": "ec858868",
   "metadata": {},
   "outputs": [],
   "source": [
    "## Q22). Python program to calculate sum of integers in string."
   ]
  },
  {
   "cell_type": "code",
   "execution_count": 27,
   "id": "2dedb206",
   "metadata": {},
   "outputs": [
    {
     "data": {
      "text/plain": [
       "23"
      ]
     },
     "execution_count": 27,
     "metadata": {},
     "output_type": "execute_result"
    }
   ],
   "source": [
    "str1=\"R@hool9545\"\n",
    "sum1=0\n",
    "for i in str1:\n",
    "    if i.isnumeric():\n",
    "        i=int(i)\n",
    "        sum1+=i\n",
    "sum1     "
   ]
  },
  {
   "cell_type": "code",
   "execution_count": null,
   "id": "c0d88787",
   "metadata": {},
   "outputs": [],
   "source": [
    "## Q23). Python program to print all non repeating characters in string."
   ]
  },
  {
   "cell_type": "code",
   "execution_count": 4,
   "id": "65cfa505",
   "metadata": {},
   "outputs": [
    {
     "name": "stdout",
     "output_type": "stream",
     "text": [
      "r, h, d, b, "
     ]
    }
   ],
   "source": [
    "string=\"rahul dubal\"\n",
    "for i in string:\n",
    "    if i!=' ':\n",
    "        c=string.count(i)\n",
    "        if c==1:\n",
    "            print(i,end=', ')"
   ]
  },
  {
   "cell_type": "code",
   "execution_count": null,
   "id": "d2f638e0",
   "metadata": {},
   "outputs": [],
   "source": [
    "## Q24). Python program to copy one string to another string."
   ]
  },
  {
   "cell_type": "code",
   "execution_count": 41,
   "id": "71289d94",
   "metadata": {},
   "outputs": [
    {
     "data": {
      "text/plain": [
       "['A', 'E', 'd', 'z']"
      ]
     },
     "execution_count": 41,
     "metadata": {},
     "output_type": "execute_result"
    }
   ],
   "source": [
    "l=['d','A','z','E']\n",
    "l.sort()\n",
    "l"
   ]
  },
  {
   "cell_type": "code",
   "execution_count": null,
   "id": "1063812f",
   "metadata": {},
   "outputs": [],
   "source": [
    "## Q23). Python Program to sort characters of string in ascending order."
   ]
  },
  {
   "cell_type": "code",
   "execution_count": 52,
   "id": "f8aa8200",
   "metadata": {},
   "outputs": [
    {
     "data": {
      "text/plain": [
       "'aabdhllruu'"
      ]
     },
     "execution_count": 52,
     "metadata": {},
     "output_type": "execute_result"
    }
   ],
   "source": [
    "string=\"rahul dubal\"\n",
    "l=[i for i in string if i!=' ']\n",
    "l.sort()\n",
    "str(''.join(l))"
   ]
  },
  {
   "cell_type": "code",
   "execution_count": null,
   "id": "c9c54e4c",
   "metadata": {},
   "outputs": [],
   "source": [
    "## Q24). Python Program to sort character of string in descending order."
   ]
  },
  {
   "cell_type": "code",
   "execution_count": 53,
   "id": "c6179b27",
   "metadata": {},
   "outputs": [
    {
     "data": {
      "text/plain": [
       "'uurllhdbaa'"
      ]
     },
     "execution_count": 53,
     "metadata": {},
     "output_type": "execute_result"
    }
   ],
   "source": [
    "string=\"rahul dubal\"\n",
    "l=[i for i in string if i!=' ']\n",
    "l.sort()\n",
    "str(''.join(l[::-1]))"
   ]
  },
  {
   "cell_type": "markdown",
   "id": "011f72f3",
   "metadata": {},
   "source": [
    "# Python Coding Questions on Array"
   ]
  },
  {
   "cell_type": "code",
   "execution_count": null,
   "id": "3db8cdb3",
   "metadata": {},
   "outputs": [],
   "source": [
    "## Q1). Write a program in Python for, In array 1-100 numbers are stored, one number is missing how do you find it."
   ]
  },
  {
   "cell_type": "code",
   "execution_count": null,
   "id": "0d16b583",
   "metadata": {},
   "outputs": [],
   "source": []
  },
  {
   "cell_type": "code",
   "execution_count": null,
   "id": "28778c15",
   "metadata": {},
   "outputs": [],
   "source": [
    "## Q2). Write a program in Python for, In an array 1-100 multiple numbers are duplicates, how do you find it."
   ]
  },
  {
   "cell_type": "code",
   "execution_count": null,
   "id": "83e2a16f",
   "metadata": {},
   "outputs": [],
   "source": []
  },
  {
   "cell_type": "code",
   "execution_count": null,
   "id": "278753bb",
   "metadata": {},
   "outputs": [],
   "source": [
    "## Q3). Write a program in Python for, How to find all pairs in an array of integers whose sum is equal to a given number."
   ]
  },
  {
   "cell_type": "code",
   "execution_count": null,
   "id": "ff032bf7",
   "metadata": {},
   "outputs": [],
   "source": []
  },
  {
   "cell_type": "code",
   "execution_count": null,
   "id": "1dc3813b",
   "metadata": {},
   "outputs": [],
   "source": [
    "## Q4). Write a program in Python for, How to compare two arrays equal in size or not."
   ]
  },
  {
   "cell_type": "code",
   "execution_count": null,
   "id": "8637c609",
   "metadata": {},
   "outputs": [],
   "source": []
  },
  {
   "cell_type": "code",
   "execution_count": null,
   "id": "8c47cf84",
   "metadata": {},
   "outputs": [],
   "source": [
    "## Q5). Write a program in Python to find the largest and smallest number in an array."
   ]
  },
  {
   "cell_type": "code",
   "execution_count": null,
   "id": "13f4843a",
   "metadata": {},
   "outputs": [],
   "source": []
  },
  {
   "cell_type": "code",
   "execution_count": null,
   "id": "a121adc2",
   "metadata": {},
   "outputs": [],
   "source": [
    "## Q6). Write a program in Python to find the second highest number in an integer array."
   ]
  },
  {
   "cell_type": "code",
   "execution_count": null,
   "id": "48a78778",
   "metadata": {},
   "outputs": [],
   "source": []
  },
  {
   "cell_type": "code",
   "execution_count": null,
   "id": "9d9c6a77",
   "metadata": {},
   "outputs": [],
   "source": [
    "## Q7). Write a program in Python to find the top two maximum numbers in an array?"
   ]
  },
  {
   "cell_type": "code",
   "execution_count": null,
   "id": "4caba9fa",
   "metadata": {},
   "outputs": [],
   "source": []
  },
  {
   "cell_type": "code",
   "execution_count": null,
   "id": "9d5ed731",
   "metadata": {},
   "outputs": [],
   "source": [
    "## Q8). Write a program in Python to remove duplicate elements from arrays."
   ]
  },
  {
   "cell_type": "code",
   "execution_count": null,
   "id": "789d13f3",
   "metadata": {},
   "outputs": [],
   "source": []
  },
  {
   "cell_type": "code",
   "execution_count": null,
   "id": "7eefde0a",
   "metadata": {},
   "outputs": [],
   "source": [
    "## Q9). Python program to find the top two maximum numbers in an array."
   ]
  },
  {
   "cell_type": "code",
   "execution_count": null,
   "id": "87503b58",
   "metadata": {},
   "outputs": [],
   "source": []
  },
  {
   "cell_type": "code",
   "execution_count": null,
   "id": "99b50540",
   "metadata": {},
   "outputs": [],
   "source": [
    "## Q10). Python program to print arrays in reverse Order."
   ]
  },
  {
   "cell_type": "code",
   "execution_count": null,
   "id": "ba583c7b",
   "metadata": {},
   "outputs": [],
   "source": []
  },
  {
   "cell_type": "code",
   "execution_count": null,
   "id": "a477d077",
   "metadata": {},
   "outputs": [],
   "source": [
    "## Q11). Python program to reverse an Array in two ways."
   ]
  },
  {
   "cell_type": "code",
   "execution_count": null,
   "id": "5948ff5f",
   "metadata": {},
   "outputs": [],
   "source": []
  },
  {
   "cell_type": "code",
   "execution_count": null,
   "id": "f54bb453",
   "metadata": {},
   "outputs": [],
   "source": [
    "## Q12). Python Program to calculate length of an array."
   ]
  },
  {
   "cell_type": "code",
   "execution_count": null,
   "id": "bc20bcc9",
   "metadata": {},
   "outputs": [],
   "source": []
  },
  {
   "cell_type": "code",
   "execution_count": null,
   "id": "a2cef4e2",
   "metadata": {},
   "outputs": [],
   "source": [
    "## Q13). Python program to insert an element at the end of an Array."
   ]
  },
  {
   "cell_type": "code",
   "execution_count": null,
   "id": "4bf2aeea",
   "metadata": {},
   "outputs": [],
   "source": []
  },
  {
   "cell_type": "code",
   "execution_count": null,
   "id": "b9d88c3f",
   "metadata": {},
   "outputs": [],
   "source": [
    "## 14). Python program to insert elements at a given location in Array."
   ]
  },
  {
   "cell_type": "code",
   "execution_count": null,
   "id": "d147a284",
   "metadata": {},
   "outputs": [],
   "source": []
  },
  {
   "cell_type": "code",
   "execution_count": null,
   "id": "8d858ffa",
   "metadata": {},
   "outputs": [],
   "source": [
    "## 15). Python Program to delete elements at end of Array."
   ]
  },
  {
   "cell_type": "code",
   "execution_count": null,
   "id": "043218b2",
   "metadata": {},
   "outputs": [],
   "source": []
  },
  {
   "cell_type": "code",
   "execution_count": null,
   "id": "1943eda4",
   "metadata": {},
   "outputs": [],
   "source": [
    "## 16). Python Program to delete given element from Array."
   ]
  },
  {
   "cell_type": "code",
   "execution_count": null,
   "id": "a3550a73",
   "metadata": {},
   "outputs": [],
   "source": []
  },
  {
   "cell_type": "code",
   "execution_count": null,
   "id": "7d53562a",
   "metadata": {},
   "outputs": [],
   "source": [
    "## 17). Python Program to delete element from array at given index."
   ]
  },
  {
   "cell_type": "code",
   "execution_count": null,
   "id": "e726fbf3",
   "metadata": {},
   "outputs": [],
   "source": []
  },
  {
   "cell_type": "code",
   "execution_count": null,
   "id": "c06ef1b8",
   "metadata": {},
   "outputs": [],
   "source": [
    "## 18). Python Program to find sum of array elements."
   ]
  },
  {
   "cell_type": "code",
   "execution_count": null,
   "id": "dfad2b0c",
   "metadata": {},
   "outputs": [],
   "source": []
  },
  {
   "cell_type": "code",
   "execution_count": null,
   "id": "1f1662f8",
   "metadata": {},
   "outputs": [],
   "source": [
    "## 19). Python Program to print all even numbers in an array."
   ]
  },
  {
   "cell_type": "code",
   "execution_count": null,
   "id": "dd007a86",
   "metadata": {},
   "outputs": [],
   "source": []
  },
  {
   "cell_type": "code",
   "execution_count": null,
   "id": "70671f3a",
   "metadata": {},
   "outputs": [],
   "source": [
    "## 20). Python Program to print all odd numbers in an array."
   ]
  },
  {
   "cell_type": "code",
   "execution_count": null,
   "id": "432e1bd9",
   "metadata": {},
   "outputs": [],
   "source": []
  },
  {
   "cell_type": "code",
   "execution_count": null,
   "id": "23e7a67f",
   "metadata": {},
   "outputs": [],
   "source": [
    "## 21). Python program to perform left rotation of array elements by two positions."
   ]
  },
  {
   "cell_type": "code",
   "execution_count": null,
   "id": "0770ade4",
   "metadata": {},
   "outputs": [],
   "source": []
  },
  {
   "cell_type": "code",
   "execution_count": null,
   "id": "3e8e3010",
   "metadata": {},
   "outputs": [],
   "source": [
    "## 22). Python program to perform right rotation in array by 2 positions."
   ]
  },
  {
   "cell_type": "code",
   "execution_count": null,
   "id": "e96f715c",
   "metadata": {},
   "outputs": [],
   "source": []
  },
  {
   "cell_type": "code",
   "execution_count": null,
   "id": "07bd4f10",
   "metadata": {},
   "outputs": [],
   "source": [
    "## 23). Python Program to merge two arrays."
   ]
  },
  {
   "cell_type": "code",
   "execution_count": null,
   "id": "b142b8a3",
   "metadata": {},
   "outputs": [],
   "source": []
  },
  {
   "cell_type": "code",
   "execution_count": null,
   "id": "ea802fd1",
   "metadata": {},
   "outputs": [],
   "source": [
    "## 24). Python Program to find highest frequency element in array."
   ]
  },
  {
   "cell_type": "code",
   "execution_count": null,
   "id": "a7f29916",
   "metadata": {},
   "outputs": [],
   "source": []
  },
  {
   "cell_type": "code",
   "execution_count": null,
   "id": "0c48dfb3",
   "metadata": {},
   "outputs": [],
   "source": [
    "## 25). Python Program to add two numbers using recursion."
   ]
  },
  {
   "cell_type": "code",
   "execution_count": null,
   "id": "72ca5212",
   "metadata": {},
   "outputs": [],
   "source": []
  },
  {
   "cell_type": "code",
   "execution_count": null,
   "id": "2d3d317d",
   "metadata": {},
   "outputs": [],
   "source": [
    "## 26). Python Program to find sum of digit of number using recursion."
   ]
  },
  {
   "cell_type": "code",
   "execution_count": null,
   "id": "640e1d52",
   "metadata": {},
   "outputs": [],
   "source": []
  },
  {
   "cell_type": "markdown",
   "id": "ee3d3af9",
   "metadata": {},
   "source": [
    "# Interview questions on Linked List"
   ]
  },
  {
   "cell_type": "code",
   "execution_count": null,
   "id": "b5424e37",
   "metadata": {},
   "outputs": [],
   "source": [
    "## Q1). Python Program to Create and Traverse Singly linked list."
   ]
  },
  {
   "cell_type": "code",
   "execution_count": null,
   "id": "30da1de4",
   "metadata": {},
   "outputs": [],
   "source": []
  },
  {
   "cell_type": "code",
   "execution_count": null,
   "id": "d03b1f63",
   "metadata": {},
   "outputs": [],
   "source": [
    "## Q2). Python program to insert a node in a linked list."
   ]
  },
  {
   "cell_type": "code",
   "execution_count": null,
   "id": "6d21c591",
   "metadata": {},
   "outputs": [],
   "source": []
  },
  {
   "cell_type": "code",
   "execution_count": null,
   "id": "d390713f",
   "metadata": {},
   "outputs": [],
   "source": [
    "## Q3). Write a program in Python to reverse a singly linked list."
   ]
  },
  {
   "cell_type": "code",
   "execution_count": null,
   "id": "187b839d",
   "metadata": {},
   "outputs": [],
   "source": []
  },
  {
   "cell_type": "code",
   "execution_count": null,
   "id": "34b19fb7",
   "metadata": {},
   "outputs": [],
   "source": [
    "## Q4). Python Program to search an element in a singly linked list."
   ]
  },
  {
   "cell_type": "code",
   "execution_count": null,
   "id": "ffb0a673",
   "metadata": {},
   "outputs": [],
   "source": []
  },
  {
   "cell_type": "code",
   "execution_count": null,
   "id": "4ff9b9d1",
   "metadata": {},
   "outputs": [],
   "source": [
    "## Q5). Linked list Deletion in Python: At beginning, End, Given location"
   ]
  },
  {
   "cell_type": "code",
   "execution_count": null,
   "id": "d307d18e",
   "metadata": {},
   "outputs": [],
   "source": []
  },
  {
   "cell_type": "code",
   "execution_count": null,
   "id": "93b81089",
   "metadata": {},
   "outputs": [],
   "source": [
    "### Q6). Write a program in Python to find the 3rd element of Linked List from last in a single pass."
   ]
  },
  {
   "cell_type": "code",
   "execution_count": null,
   "id": "240740a2",
   "metadata": {},
   "outputs": [],
   "source": []
  },
  {
   "cell_type": "code",
   "execution_count": 3,
   "id": "cc9252c0",
   "metadata": {},
   "outputs": [],
   "source": [
    "## Q7). Write a program in Python to find the middle element of a linked list in a single pass."
   ]
  },
  {
   "cell_type": "code",
   "execution_count": null,
   "id": "28ed6bfa",
   "metadata": {},
   "outputs": [],
   "source": []
  },
  {
   "cell_type": "code",
   "execution_count": null,
   "id": "32f0cbe2",
   "metadata": {},
   "outputs": [],
   "source": []
  },
  {
   "cell_type": "code",
   "execution_count": null,
   "id": "0be2b105",
   "metadata": {},
   "outputs": [],
   "source": []
  },
  {
   "cell_type": "code",
   "execution_count": null,
   "id": "9a1daf5d",
   "metadata": {},
   "outputs": [],
   "source": [
    "n= int(input(\"enter a number\"))\n",
    "for i in range(2,n//2):\n",
    "    if i"
   ]
  },
  {
   "cell_type": "code",
   "execution_count": 4,
   "id": "05ce017e",
   "metadata": {},
   "outputs": [],
   "source": [
    "## Q_). Write a program in Python to print prime numbers in specified range:"
   ]
  },
  {
   "cell_type": "code",
   "execution_count": null,
   "id": "e33f4e84",
   "metadata": {},
   "outputs": [],
   "source": [
    "for  in range(30):\n",
    "    if i:\n",
    "        "
   ]
  },
  {
   "cell_type": "code",
   "execution_count": null,
   "id": "5f83418c",
   "metadata": {},
   "outputs": [],
   "source": []
  },
  {
   "cell_type": "code",
   "execution_count": null,
   "id": "4cf5a37a",
   "metadata": {},
   "outputs": [],
   "source": []
  },
  {
   "cell_type": "code",
   "execution_count": null,
   "id": "448ec495",
   "metadata": {},
   "outputs": [],
   "source": []
  },
  {
   "cell_type": "code",
   "execution_count": null,
   "id": "8287dbce",
   "metadata": {},
   "outputs": [],
   "source": []
  },
  {
   "cell_type": "code",
   "execution_count": 2,
   "id": "52ce31d9",
   "metadata": {},
   "outputs": [
    {
     "name": "stdout",
     "output_type": "stream",
     "text": [
      "enter a number: 5\n",
      "5 odd number\n"
     ]
    }
   ],
   "source": [
    "n=int(input(\"enter a number: \"))\n",
    "if n/2==n//2:\n",
    "    print(n, \"is even number\")\n",
    "else:\n",
    "    print(n,\"odd number\")\n",
    "    "
   ]
  },
  {
   "cell_type": "code",
   "execution_count": 5,
   "id": "2f0bc4ae",
   "metadata": {},
   "outputs": [
    {
     "name": "stdout",
     "output_type": "stream",
     "text": [
      "enter a number: 4\n",
      "4 is even number\n"
     ]
    }
   ],
   "source": [
    "n=int(input(\"enter a number: \"))\n",
    "x=(n//2)*2\n",
    "if x==n:\n",
    "    print(n, \"is even number\")\n",
    "else:\n",
    "    print(n,\"odd number\")"
   ]
  },
  {
   "cell_type": "code",
   "execution_count": 10,
   "id": "2d613057",
   "metadata": {},
   "outputs": [
    {
     "name": "stdout",
     "output_type": "stream",
     "text": [
      "0 1 1 2 3 5 8 13 21 34 "
     ]
    }
   ],
   "source": [
    "n=0\n",
    "n1=1\n",
    "while n<50:\n",
    "    print(n,end=\" \")\n",
    "    n2=n\n",
    "    n=n1\n",
    "    n1=n+n2"
   ]
  },
  {
   "cell_type": "code",
   "execution_count": 11,
   "id": "ac3f076f",
   "metadata": {},
   "outputs": [
    {
     "name": "stdout",
     "output_type": "stream",
     "text": [
      "1 2 3 5 7 11 13 17 19 23 29 31 37 41 43 47 53 59 61 67 71 73 79 83 89 97 "
     ]
    }
   ],
   "source": [
    "for num in range (1,100):\n",
    "    flag=False\n",
    "    for i in range(2,num):\n",
    "        if num%i==0:\n",
    "            flag=True\n",
    "            break\n",
    "    if flag==False:\n",
    "        print(num,end=\" \")  "
   ]
  },
  {
   "cell_type": "code",
   "execution_count": 16,
   "id": "9de10677",
   "metadata": {},
   "outputs": [
    {
     "name": "stdout",
     "output_type": "stream",
     "text": [
      "enter a number: 789\n"
     ]
    },
    {
     "data": {
      "text/plain": [
       "24"
      ]
     },
     "execution_count": 16,
     "metadata": {},
     "output_type": "execute_result"
    }
   ],
   "source": [
    "n=int(input(\"enter a number: \"))\n",
    "sum1=0\n",
    "while n>0:\n",
    "    rem=n%10\n",
    "    n=n//10\n",
    "    sum1+=rem\n",
    "sum1"
   ]
  },
  {
   "cell_type": "code",
   "execution_count": 18,
   "id": "b2b239f6",
   "metadata": {},
   "outputs": [
    {
     "name": "stdout",
     "output_type": "stream",
     "text": [
      "enter a number: 10\n",
      "enter a number: 100\n"
     ]
    },
    {
     "data": {
      "text/plain": [
       "5005"
      ]
     },
     "execution_count": 18,
     "metadata": {},
     "output_type": "execute_result"
    }
   ],
   "source": [
    "l=int(input(\"enter a number: \"))\n",
    "u=int(input(\"enter a number: \"))\n",
    "sum1=0\n",
    "for i in range(l,u+1):\n",
    "    sum1+=i\n",
    "sum1"
   ]
  },
  {
   "cell_type": "code",
   "execution_count": 20,
   "id": "ea365e4a",
   "metadata": {},
   "outputs": [
    {
     "name": "stdout",
     "output_type": "stream",
     "text": [
      "1 2 3 4 5 6 7 8 9 10 "
     ]
    }
   ],
   "source": [
    "def print1(n):\n",
    "    if n>0:\n",
    "        print1(n-1)\n",
    "        print(n,end=\" \")\n",
    "print1(10)"
   ]
  },
  {
   "cell_type": "code",
   "execution_count": null,
   "id": "57c7c6fb",
   "metadata": {},
   "outputs": [],
   "source": []
  }
 ],
 "metadata": {
  "kernelspec": {
   "display_name": "Python 3 (ipykernel)",
   "language": "python",
   "name": "python3"
  },
  "language_info": {
   "codemirror_mode": {
    "name": "ipython",
    "version": 3
   },
   "file_extension": ".py",
   "mimetype": "text/x-python",
   "name": "python",
   "nbconvert_exporter": "python",
   "pygments_lexer": "ipython3",
   "version": "3.9.7"
  }
 },
 "nbformat": 4,
 "nbformat_minor": 5
}
