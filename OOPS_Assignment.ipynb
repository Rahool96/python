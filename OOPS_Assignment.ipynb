{
 "cells": [
  {
   "cell_type": "markdown",
   "metadata": {},
   "source": [
    "# oops_assignment\n"
   ]
  },
  {
   "cell_type": "markdown",
   "metadata": {},
   "source": [
    "### !} Write a Rectangle class in Python language, allowing you to build a rectangle with length and width attributes.\n",
    "##### Create a Perimeter() method to calculate the perimeter of the rectangle and \n",
    "##### a Area() method to calculate the area of the rectangle.\n",
    "##### Create a method display() that display the length, width, perimeter and area of an object \n",
    "##### created using an instantiation on rectangle class.\n",
    "##### Create a Parallelepipede child class inheriting from the Rectangle class and \n",
    "##### with a height attribute and another Volume() method to calculate the volume of the Parallelepiped"
   ]
  },
  {
   "cell_type": "code",
   "execution_count": 5,
   "metadata": {},
   "outputs": [
    {
     "name": "stdout",
     "output_type": "stream",
     "text": [
      "Heigth is:10\n",
      "length is:20\n",
      "width is:30\n",
      "length is: 20.0 width is: 30.0 Rectangel perimeter is: 100.0 Rectangle area is: 50.0\n",
      "Volume of parallelepipede is 6000.0\n"
     ]
    }
   ],
   "source": [
    "class Rectangle:\n",
    "    def __init__(self):\n",
    "        self.length=float(input(\"length is:\"))\n",
    "        self.width=float(input(\"width is:\"))\n",
    "    def Perimeter(self):\n",
    "        peri_rec=2*(self.length + self.width)\n",
    "        return peri_rec\n",
    "    def Area(self):\n",
    "        area_rec=(self.length + self.width)\n",
    "        return area_rec\n",
    "    def Display(self):\n",
    "        print(\"length is:\",self.length,\"width is:\",self.width,\"Rectangel perimeter is:\",self.Perimeter(),\"Rectangle area is:\",self.Area())\n",
    "class Parallelepipede(Rectangle):\n",
    "    def __init__(self):\n",
    "        self.height=float(input(\"Heigth is:\"))\n",
    "        Rectangle.__init__(self)\n",
    "    def Volume(self):\n",
    "        vol_rec=self.length*self.width*self.height\n",
    "        return vol_rec\n",
    "    \n",
    "\n",
    "R=Parallelepipede()\n",
    "R.Display()\n",
    "print(\"Volume of parallelepipede is\",R.Volume())  "
   ]
  },
  {
   "cell_type": "code",
   "execution_count": 4,
   "metadata": {},
   "outputs": [
    {
     "name": "stdout",
     "output_type": "stream",
     "text": [
      "length is: 20 width is: 10 Rectangel perimeter is: 60 Rectangle area is: 30\n"
     ]
    },
    {
     "data": {
      "text/plain": [
       "4000"
      ]
     },
     "execution_count": 4,
     "metadata": {},
     "output_type": "execute_result"
    }
   ],
   "source": [
    "class Rectangle:\n",
    "    def __init__(self,length,width):\n",
    "        self.length=length\n",
    "        self.width=width\n",
    "    def Perimeter(self):\n",
    "        peri_rec=2*(self.length + self.width)\n",
    "        return peri_rec\n",
    "    def Area(self):\n",
    "        area_rec=(self.length + self.width)\n",
    "        return area_rec\n",
    "    def Display(self):\n",
    "        print(\"length is:\",self.length,\"width is:\",self.width,\"Rectangel perimeter is:\",self.Perimeter(),\"Rectangle area is:\",self.Area())\n",
    "class Parallelepipede(Rectangle):\n",
    "    def __init__(self,height,length,width):\n",
    "        self.height=height\n",
    "        Rectangle.__init__(self,length,width)\n",
    "    def Volume(self):\n",
    "        vol_rec=self.length*self.width*self.height\n",
    "        return vol_rec\n",
    "    \n",
    "\n",
    "R=Parallelepipede(20,20,10)\n",
    "R.Display()\n",
    "R.Volume()\n",
    "  "
   ]
  },
  {
   "cell_type": "markdown",
   "metadata": {},
   "source": [
    "#### 2} Create a Python class Person with attributes: name and age of type string.\n",
    "#### Create a display() method that displays the name and age of an object created via the Person class.\n",
    "#### Create a child class Student  which inherits from the Person class and which also has a section attribute.\n",
    "#### Create a method displayStudent() that displays the name, age and section of an object created via the Student class.\n",
    "#### Create a student object via an instantiation on the Student class and then test the displayStudent method."
   ]
  },
  {
   "cell_type": "code",
   "execution_count": 14,
   "metadata": {},
   "outputs": [
    {
     "name": "stdout",
     "output_type": "stream",
     "text": [
      "enter name:df\n",
      "enter age:vdv\n",
      "Person name is: df Person age is: vdv\n",
      "section:dg\n",
      "enter name:fg\n",
      "enter age:fd\n"
     ]
    },
    {
     "data": {
      "text/plain": [
       "'fg fd dg'"
      ]
     },
     "execution_count": 14,
     "metadata": {},
     "output_type": "execute_result"
    }
   ],
   "source": [
    "class Person:\n",
    "    def __init__(self):\n",
    "        self.name=input(\"enter name:\")\n",
    "        self.age=str(input(\"enter age:\"))\n",
    "    def Display(self):\n",
    "        print(\"Person name is:\",self.name,\"Person age is:\",str(self.age))\n",
    "class Student(Person):\n",
    "    def __init__(self):\n",
    "        self.section=input(\"section:\")\n",
    "        Person.__init__(self)\n",
    "    def displayStudent(self):\n",
    "        return self.name+\" \"+str(self.age)+\" \"+self.section\n",
    "        \n",
    "        \n",
    "p=Person()\n",
    "p.Display()\n",
    "s=Student()\n",
    "s.displayStudent()"
   ]
  }
 ],
 "metadata": {
  "kernelspec": {
   "display_name": "Python 3 (ipykernel)",
   "language": "python",
   "name": "python3"
  },
  "language_info": {
   "codemirror_mode": {
    "name": "ipython",
    "version": 3
   },
   "file_extension": ".py",
   "mimetype": "text/x-python",
   "name": "python",
   "nbconvert_exporter": "python",
   "pygments_lexer": "ipython3",
   "version": "3.9.7"
  }
 },
 "nbformat": 4,
 "nbformat_minor": 2
}
